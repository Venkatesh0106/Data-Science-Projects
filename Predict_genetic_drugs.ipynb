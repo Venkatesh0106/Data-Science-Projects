{
 "cells": [
  {
   "cell_type": "code",
   "execution_count": 1,
   "metadata": {
    "collapsed": true
   },
   "outputs": [],
   "source": [
    "\n",
    "\n",
    "import pandas as pd\n",
    "from pandas import Series,DataFrame\n",
    "\n",
    "import numpy as np\n",
    "import matplotlib.pyplot as plt\n",
    "import seaborn as sns\n",
    "sns.set_style('whitegrid')\n",
    "%matplotlib inline\n",
    "\n",
    "import csv\n",
    "import gzip\n",
    "\n",
    "from sklearn.linear_model import LinearRegression\n",
    "from sklearn.naive_bayes import GaussianNB\n",
    "from sklearn.feature_selection import SelectKBest\n",
    "from sklearn.feature_selection import chi2\n",
    "from sklearn import cross_validation\n",
    "from sklearn.ensemble.forest import RandomForestRegressor"
   ]
  },
  {
   "cell_type": "code",
   "execution_count": 66,
   "metadata": {
    "collapsed": true
   },
   "outputs": [],
   "source": [
    "Train_GD = pd.read_csv(\"CAX_Bidding_TRAIN_Molecule_3_4_5.csv\")\n",
    "Pre_Test_GD = pd.read_csv(\"CAX_Bidding_TEST_Molecule_6_Pre_LOE.csv\")\n",
    "Pos_Test_GD = pd.read_csv(\"CAX_Bidding_TEST_Molecule_6_Post_LOE.csv\")\n",
    "Sample_Submission = pd.read_csv(\"CAX_Bidding_SubmissionFormat.csv\")\n",
    "Dict_GD = pd.read_excel(\"CAX_Bidding_DataDictionary.xlsx\")\n",
    "Sub_Train_df = pd.read_csv(\"Subsetted Data.csv\")\n",
    "Sub_Test_df = pd.read_csv(\"Subsetted Data_Test.csv\")\n"
   ]
  },
  {
   "cell_type": "code",
   "execution_count": 67,
   "metadata": {
    "collapsed": false
   },
   "outputs": [
    {
     "data": {
      "text/plain": [
       "(152, 16)"
      ]
     },
     "execution_count": 67,
     "metadata": {},
     "output_type": "execute_result"
    }
   ],
   "source": [
    "Sub_Test_df.shape"
   ]
  },
  {
   "cell_type": "code",
   "execution_count": 68,
   "metadata": {
    "collapsed": false
   },
   "outputs": [
    {
     "name": "stdout",
     "output_type": "stream",
     "text": [
      "<class 'pandas.core.frame.DataFrame'>\n",
      "Int64Index: 786 entries, 0 to 785\n",
      "Data columns (total 16 columns):\n",
      "ID                                 786 non-null int64\n",
      "Account                            786 non-null object\n",
      "Province                           786 non-null object\n",
      "Region                             786 non-null object\n",
      "Tender_Type                        786 non-null object\n",
      "Offer_date                         786 non-null object\n",
      "Start_date                         786 non-null object\n",
      "End_date_including_extension       786 non-null object\n",
      "Length_of_contract_in_Months       786 non-null int64\n",
      "Market                             786 non-null object\n",
      "Tender_Standard_Unit_per_year      786 non-null float64\n",
      "Winning_price_per_standard_unit    745 non-null float64\n",
      "Molecule                           786 non-null object\n",
      "Presentation                       786 non-null object\n",
      "Winning_Product                    747 non-null object\n",
      "Winning_Company                    747 non-null object\n",
      "dtypes: float64(2), int64(2), object(12)\n",
      "memory usage: 104.4+ KB\n"
     ]
    }
   ],
   "source": [
    "Sub_Train_df.info()"
   ]
  },
  {
   "cell_type": "code",
   "execution_count": 69,
   "metadata": {
    "collapsed": true
   },
   "outputs": [],
   "source": [
    "#Splitting the date column\n",
    "def create_month(x):\n",
    "    return x.split('/')[0]\n",
    "\n",
    "def create_day(x):\n",
    "    return x.split('/')[1]\n",
    "\n",
    "def create_year(x):\n",
    "    return x.split('/')[2]"
   ]
  },
  {
   "cell_type": "code",
   "execution_count": 70,
   "metadata": {
    "collapsed": true
   },
   "outputs": [],
   "source": [
    "Sub_Train_df[\"Date_of_Offer\"] = Sub_Train_df[\"Offer_date\"].apply(create_day)\n",
    "Sub_Train_df[\"Month_of_Offer\"] = Sub_Train_df[\"Offer_date\"].apply(create_month)\n",
    "Sub_Train_df[\"Year_of_Offer\"] = Sub_Train_df[\"Offer_date\"].apply(create_year)\n",
    "\n",
    "Sub_Test_df[\"Date_of_Offer\"] = Sub_Test_df[\"Offer_date\"].apply(create_day)\n",
    "Sub_Test_df[\"Month_of_Offer\"] = Sub_Test_df[\"Offer_date\"].apply(create_month)\n",
    "Sub_Test_df[\"Year_of_Offer\"] = Sub_Test_df[\"Offer_date\"].apply(create_year)\n"
   ]
  },
  {
   "cell_type": "code",
   "execution_count": 71,
   "metadata": {
    "collapsed": false
   },
   "outputs": [
    {
     "data": {
      "text/html": [
       "<div>\n",
       "<table border=\"1\" class=\"dataframe\">\n",
       "  <thead>\n",
       "    <tr style=\"text-align: right;\">\n",
       "      <th></th>\n",
       "      <th>ID</th>\n",
       "      <th>Account</th>\n",
       "      <th>Province</th>\n",
       "      <th>Region</th>\n",
       "      <th>Tender_Type</th>\n",
       "      <th>Offer_date</th>\n",
       "      <th>Start_date</th>\n",
       "      <th>End_date_including_extension</th>\n",
       "      <th>Length_of_contract_in_Months</th>\n",
       "      <th>Market</th>\n",
       "      <th>Tender_Standard_Unit_per_year</th>\n",
       "      <th>Winning_price_per_standard_unit</th>\n",
       "      <th>Molecule</th>\n",
       "      <th>Presentation</th>\n",
       "      <th>Winning_Product</th>\n",
       "      <th>Winning_Company</th>\n",
       "      <th>Date_of_Offer</th>\n",
       "      <th>Month_of_Offer</th>\n",
       "      <th>Year_of_Offer</th>\n",
       "    </tr>\n",
       "  </thead>\n",
       "  <tbody>\n",
       "    <tr>\n",
       "      <th>0</th>\n",
       "      <td>226</td>\n",
       "      <td>Account95</td>\n",
       "      <td>Provice21</td>\n",
       "      <td>Region6</td>\n",
       "      <td>Tender Type1</td>\n",
       "      <td>10/3/2008 12:00</td>\n",
       "      <td>1/1/2009</td>\n",
       "      <td>31-12-2014</td>\n",
       "      <td>36</td>\n",
       "      <td>Market3</td>\n",
       "      <td>69673</td>\n",
       "      <td>1.56353</td>\n",
       "      <td>Molecule3</td>\n",
       "      <td>Presentation8</td>\n",
       "      <td>Product10</td>\n",
       "      <td>Company1</td>\n",
       "      <td>3</td>\n",
       "      <td>10</td>\n",
       "      <td>2008 12:00</td>\n",
       "    </tr>\n",
       "    <tr>\n",
       "      <th>1</th>\n",
       "      <td>227</td>\n",
       "      <td>Account95</td>\n",
       "      <td>Provice21</td>\n",
       "      <td>Region6</td>\n",
       "      <td>Tender Type1</td>\n",
       "      <td>4/13/2010 12:00</td>\n",
       "      <td>1/5/2010</td>\n",
       "      <td>30-09-2013</td>\n",
       "      <td>20</td>\n",
       "      <td>Market3</td>\n",
       "      <td>56966</td>\n",
       "      <td>1.56353</td>\n",
       "      <td>Molecule3</td>\n",
       "      <td>Presentation8</td>\n",
       "      <td>Product10</td>\n",
       "      <td>Company1</td>\n",
       "      <td>13</td>\n",
       "      <td>4</td>\n",
       "      <td>2010 12:00</td>\n",
       "    </tr>\n",
       "    <tr>\n",
       "      <th>2</th>\n",
       "      <td>232</td>\n",
       "      <td>Account111</td>\n",
       "      <td>Provice15</td>\n",
       "      <td>Region13</td>\n",
       "      <td>Tender Type1</td>\n",
       "      <td>4/12/2010 12:00</td>\n",
       "      <td>1/5/2010</td>\n",
       "      <td>30-06-2012</td>\n",
       "      <td>24</td>\n",
       "      <td>Market3</td>\n",
       "      <td>211912</td>\n",
       "      <td>1.77000</td>\n",
       "      <td>Molecule3</td>\n",
       "      <td>Presentation8</td>\n",
       "      <td>Product10</td>\n",
       "      <td>Company1</td>\n",
       "      <td>12</td>\n",
       "      <td>4</td>\n",
       "      <td>2010 12:00</td>\n",
       "    </tr>\n",
       "    <tr>\n",
       "      <th>3</th>\n",
       "      <td>240</td>\n",
       "      <td>Account91</td>\n",
       "      <td>Provice10</td>\n",
       "      <td>Region9</td>\n",
       "      <td>Tender Type1</td>\n",
       "      <td>5/10/2010 0:00</td>\n",
       "      <td>1/7/2010</td>\n",
       "      <td>30-09-2012</td>\n",
       "      <td>24</td>\n",
       "      <td>Market3</td>\n",
       "      <td>26050</td>\n",
       "      <td>1.77000</td>\n",
       "      <td>Molecule3</td>\n",
       "      <td>Presentation8</td>\n",
       "      <td>Product10</td>\n",
       "      <td>Company1</td>\n",
       "      <td>10</td>\n",
       "      <td>5</td>\n",
       "      <td>2010 0:00</td>\n",
       "    </tr>\n",
       "    <tr>\n",
       "      <th>4</th>\n",
       "      <td>242</td>\n",
       "      <td>Account51</td>\n",
       "      <td>Provice32</td>\n",
       "      <td>Region7</td>\n",
       "      <td>Tender Type1</td>\n",
       "      <td>5/19/2010 12:00</td>\n",
       "      <td>1/8/2010</td>\n",
       "      <td>31-05-2012</td>\n",
       "      <td>12</td>\n",
       "      <td>Market3</td>\n",
       "      <td>192786</td>\n",
       "      <td>1.50000</td>\n",
       "      <td>Molecule3</td>\n",
       "      <td>Presentation8</td>\n",
       "      <td>Product10</td>\n",
       "      <td>Company1</td>\n",
       "      <td>19</td>\n",
       "      <td>5</td>\n",
       "      <td>2010 12:00</td>\n",
       "    </tr>\n",
       "  </tbody>\n",
       "</table>\n",
       "</div>"
      ],
      "text/plain": [
       "    ID     Account   Province    Region   Tender_Type       Offer_date  \\\n",
       "0  226   Account95  Provice21   Region6  Tender Type1  10/3/2008 12:00   \n",
       "1  227   Account95  Provice21   Region6  Tender Type1  4/13/2010 12:00   \n",
       "2  232  Account111  Provice15  Region13  Tender Type1  4/12/2010 12:00   \n",
       "3  240   Account91  Provice10   Region9  Tender Type1   5/10/2010 0:00   \n",
       "4  242   Account51  Provice32   Region7  Tender Type1  5/19/2010 12:00   \n",
       "\n",
       "  Start_date End_date_including_extension  Length_of_contract_in_Months  \\\n",
       "0   1/1/2009                   31-12-2014                            36   \n",
       "1   1/5/2010                   30-09-2013                            20   \n",
       "2   1/5/2010                   30-06-2012                            24   \n",
       "3   1/7/2010                   30-09-2012                            24   \n",
       "4   1/8/2010                   31-05-2012                            12   \n",
       "\n",
       "    Market  Tender_Standard_Unit_per_year  Winning_price_per_standard_unit  \\\n",
       "0  Market3                          69673                          1.56353   \n",
       "1  Market3                          56966                          1.56353   \n",
       "2  Market3                         211912                          1.77000   \n",
       "3  Market3                          26050                          1.77000   \n",
       "4  Market3                         192786                          1.50000   \n",
       "\n",
       "    Molecule   Presentation Winning_Product Winning_Company Date_of_Offer  \\\n",
       "0  Molecule3  Presentation8       Product10        Company1             3   \n",
       "1  Molecule3  Presentation8       Product10        Company1            13   \n",
       "2  Molecule3  Presentation8       Product10        Company1            12   \n",
       "3  Molecule3  Presentation8       Product10        Company1            10   \n",
       "4  Molecule3  Presentation8       Product10        Company1            19   \n",
       "\n",
       "  Month_of_Offer Year_of_Offer  \n",
       "0             10    2008 12:00  \n",
       "1              4    2010 12:00  \n",
       "2              4    2010 12:00  \n",
       "3              5     2010 0:00  \n",
       "4              5    2010 12:00  "
      ]
     },
     "execution_count": 71,
     "metadata": {},
     "output_type": "execute_result"
    }
   ],
   "source": [
    "Sub_Train_df.head()"
   ]
  },
  {
   "cell_type": "code",
   "execution_count": 72,
   "metadata": {
    "collapsed": true
   },
   "outputs": [],
   "source": [
    "Sub_Train_df[\"Year_of_Offer\"] = Sub_Train_df[\"Year_of_Offer\"].apply(lambda x: int(str(x)[:5]))\n",
    "Sub_Test_df[\"Year_of_Offer\"] = Sub_Test_df[\"Year_of_Offer\"].apply(lambda x: int(str(x)[:5]))\n"
   ]
  },
  {
   "cell_type": "code",
   "execution_count": 73,
   "metadata": {
    "collapsed": true
   },
   "outputs": [],
   "source": [
    "#dropping those rows which has missing values\n",
    "Sub_Train_df.dropna(subset=['Winning_Product'], inplace=True)\n",
    "Sub_Test_df.dropna(subset=['Winning_Product'], inplace=True)\n",
    "Sub_Train_df.dropna(subset=[\"Winning_price_per_standard_unit\"], inplace=True)"
   ]
  },
  {
   "cell_type": "code",
   "execution_count": 74,
   "metadata": {
    "collapsed": false
   },
   "outputs": [
    {
     "name": "stdout",
     "output_type": "stream",
     "text": [
      "<class 'pandas.core.frame.DataFrame'>\n",
      "Int64Index: 745 entries, 0 to 785\n",
      "Data columns (total 19 columns):\n",
      "ID                                 745 non-null int64\n",
      "Account                            745 non-null object\n",
      "Province                           745 non-null object\n",
      "Region                             745 non-null object\n",
      "Tender_Type                        745 non-null object\n",
      "Offer_date                         745 non-null object\n",
      "Start_date                         745 non-null object\n",
      "End_date_including_extension       745 non-null object\n",
      "Length_of_contract_in_Months       745 non-null int64\n",
      "Market                             745 non-null object\n",
      "Tender_Standard_Unit_per_year      745 non-null float64\n",
      "Winning_price_per_standard_unit    745 non-null float64\n",
      "Molecule                           745 non-null object\n",
      "Presentation                       745 non-null object\n",
      "Winning_Product                    745 non-null object\n",
      "Winning_Company                    745 non-null object\n",
      "Date_of_Offer                      745 non-null object\n",
      "Month_of_Offer                     745 non-null object\n",
      "Year_of_Offer                      745 non-null int64\n",
      "dtypes: float64(2), int64(3), object(14)\n",
      "memory usage: 116.4+ KB\n",
      "-------------------------\n",
      "<class 'pandas.core.frame.DataFrame'>\n",
      "Int64Index: 152 entries, 0 to 151\n",
      "Data columns (total 19 columns):\n",
      "ID                                 152 non-null int64\n",
      "Account                            152 non-null object\n",
      "Province                           152 non-null object\n",
      "Region                             152 non-null object\n",
      "Tender_Type                        152 non-null object\n",
      "Offer_date                         152 non-null object\n",
      "Start_date                         152 non-null object\n",
      "End_date_including_extension       152 non-null object\n",
      "Length_of_contract_in_Months       152 non-null int64\n",
      "Market                             152 non-null object\n",
      "Tender_Standard_Unit_per_year      152 non-null int64\n",
      "Winning_price_per_standard_unit    0 non-null float64\n",
      "Molecule                           152 non-null object\n",
      "Presentation                       152 non-null object\n",
      "Winning_Product                    152 non-null object\n",
      "Winning_Company                    152 non-null object\n",
      "Date_of_Offer                      152 non-null object\n",
      "Month_of_Offer                     152 non-null object\n",
      "Year_of_Offer                      152 non-null int64\n",
      "dtypes: float64(1), int64(4), object(14)\n",
      "memory usage: 23.8+ KB\n"
     ]
    }
   ],
   "source": [
    "Sub_Train_df.info()\n",
    "print \"-------------------------\"\n",
    "Sub_Test_df.info()"
   ]
  },
  {
   "cell_type": "code",
   "execution_count": 75,
   "metadata": {
    "collapsed": true
   },
   "outputs": [],
   "source": [
    "# Convert categorical data to numbers\n",
    "from sklearn import ensemble, preprocessing\n",
    "lbl = preprocessing.LabelEncoder()\n",
    "lbl.fit(list(Sub_Train_df['Account'].values) + list(Sub_Test_df['Account'].values))\n",
    "Sub_Train_df['Account'] = lbl.transform(Sub_Train_df['Account'].values)\n",
    "Sub_Test_df['Account'] = lbl.transform(Sub_Test_df['Account'].values)\n",
    "\n",
    "lbl.fit(list(Sub_Train_df['Province'].values) + list(Sub_Test_df['Province'].values))\n",
    "Sub_Train_df['Province'] = lbl.transform(Sub_Train_df['Province'].values)\n",
    "Sub_Test_df['Province'] = lbl.transform(Sub_Test_df['Province'].values)\n",
    "\n",
    "lbl.fit(list(Sub_Train_df['Region'].values) + list(Sub_Test_df['Region'].values))\n",
    "Sub_Train_df['Region'] = lbl.transform(Sub_Train_df['Region'].values)\n",
    "Sub_Test_df['Region'] = lbl.transform(Sub_Test_df['Region'].values)\n",
    "\n",
    "lbl.fit(list(Sub_Train_df['Account'].values) + list(Sub_Test_df['Account'].values))\n",
    "Sub_Train_df['Account'] = lbl.transform(Sub_Train_df['Account'].values)\n",
    "Sub_Test_df['Account'] = lbl.transform(Sub_Test_df['Account'].values)\n",
    "\n",
    "lbl.fit(list(Sub_Train_df['Tender_Type'].values) + list(Sub_Test_df['Tender_Type'].values))\n",
    "Sub_Train_df['Tender_Type'] = lbl.transform(Sub_Train_df['Tender_Type'].values)\n",
    "Sub_Test_df['Tender_Type'] = lbl.transform(Sub_Test_df['Tender_Type'].values)\n",
    "\n",
    "lbl.fit(list(Sub_Train_df['Presentation'].values) + list(Sub_Test_df['Presentation'].values))\n",
    "Sub_Train_df['Presentation'] = lbl.transform(Sub_Train_df['Presentation'].values)\n",
    "Sub_Test_df['Presentation'] = lbl.transform(Sub_Test_df['Presentation'].values)\n",
    "\n",
    "lbl.fit(list(Sub_Train_df['Winning_Product'].values) + list(Sub_Test_df['Winning_Product'].values))\n",
    "Sub_Train_df['Winning_Product'] = lbl.transform(Sub_Train_df['Winning_Product'].values)\n",
    "Sub_Test_df['Winning_Product'] = lbl.transform(Sub_Test_df['Winning_Product'].values)\n",
    "\n",
    "lbl.fit(list(Sub_Train_df['Winning_Company'].values) + list(Sub_Test_df['Winning_Company'].values))\n",
    "Sub_Train_df['Winning_Company'] = lbl.transform(Sub_Train_df['Winning_Company'].values)\n",
    "Sub_Test_df['Winning_Company'] = lbl.transform(Sub_Test_df['Winning_Company'].values)\n",
    "\n",
    "lbl.fit(list(Sub_Train_df['Market'].values) + list(Sub_Test_df['Market'].values))\n",
    "Sub_Train_df['Market'] = lbl.transform(Sub_Train_df['Market'].values)\n",
    "Sub_Test_df['Market'] = lbl.transform(Sub_Test_df['Market'].values)\n"
   ]
  },
  {
   "cell_type": "code",
   "execution_count": 76,
   "metadata": {
    "collapsed": false
   },
   "outputs": [],
   "source": [
    "#Dropping unwanted columns\n",
    "Sub_Train_df.drop(['Offer_date','Start_date','End_date_including_extension',\n",
    "                   'Molecule'], axis = 1, inplace=True)\n",
    "Sub_Test_df.drop(['Offer_date','Start_date','End_date_including_extension',\n",
    "                  'Molecule'], axis = 1, inplace=True)\n"
   ]
  },
  {
   "cell_type": "code",
   "execution_count": 77,
   "metadata": {
    "collapsed": true
   },
   "outputs": [],
   "source": [
    "#Sub_Train_df.dropna(subset=[\"Winning_price_per_standard_unit\"], inplace=True)"
   ]
  },
  {
   "cell_type": "code",
   "execution_count": 78,
   "metadata": {
    "collapsed": false,
    "scrolled": true
   },
   "outputs": [
    {
     "name": "stdout",
     "output_type": "stream",
     "text": [
      "<class 'pandas.core.frame.DataFrame'>\n",
      "Int64Index: 745 entries, 0 to 785\n",
      "Data columns (total 15 columns):\n",
      "ID                                 745 non-null int64\n",
      "Account                            745 non-null int64\n",
      "Province                           745 non-null int64\n",
      "Region                             745 non-null int64\n",
      "Tender_Type                        745 non-null int64\n",
      "Length_of_contract_in_Months       745 non-null int64\n",
      "Market                             745 non-null int64\n",
      "Tender_Standard_Unit_per_year      745 non-null float64\n",
      "Winning_price_per_standard_unit    745 non-null float64\n",
      "Presentation                       745 non-null int64\n",
      "Winning_Product                    745 non-null int64\n",
      "Winning_Company                    745 non-null int64\n",
      "Date_of_Offer                      745 non-null object\n",
      "Month_of_Offer                     745 non-null object\n",
      "Year_of_Offer                      745 non-null int64\n",
      "dtypes: float64(2), int64(11), object(2)\n",
      "memory usage: 93.1+ KB\n"
     ]
    }
   ],
   "source": [
    "Sub_Train_df.info()"
   ]
  },
  {
   "cell_type": "code",
   "execution_count": 79,
   "metadata": {
    "collapsed": false
   },
   "outputs": [
    {
     "data": {
      "text/html": [
       "<div>\n",
       "<table border=\"1\" class=\"dataframe\">\n",
       "  <thead>\n",
       "    <tr style=\"text-align: right;\">\n",
       "      <th></th>\n",
       "      <th>ID</th>\n",
       "      <th>Account</th>\n",
       "      <th>Province</th>\n",
       "      <th>Region</th>\n",
       "      <th>Tender_Type</th>\n",
       "      <th>Length_of_contract_in_Months</th>\n",
       "      <th>Market</th>\n",
       "      <th>Tender_Standard_Unit_per_year</th>\n",
       "      <th>Winning_price_per_standard_unit</th>\n",
       "      <th>Presentation</th>\n",
       "      <th>Winning_Product</th>\n",
       "      <th>Winning_Company</th>\n",
       "      <th>Date_of_Offer</th>\n",
       "      <th>Month_of_Offer</th>\n",
       "      <th>Year_of_Offer</th>\n",
       "    </tr>\n",
       "  </thead>\n",
       "  <tbody>\n",
       "    <tr>\n",
       "      <th>0</th>\n",
       "      <td>2543</td>\n",
       "      <td>51</td>\n",
       "      <td>11</td>\n",
       "      <td>11</td>\n",
       "      <td>1</td>\n",
       "      <td>4</td>\n",
       "      <td>3</td>\n",
       "      <td>28800</td>\n",
       "      <td>NaN</td>\n",
       "      <td>10</td>\n",
       "      <td>72</td>\n",
       "      <td>17</td>\n",
       "      <td>28</td>\n",
       "      <td>2</td>\n",
       "      <td>2011</td>\n",
       "    </tr>\n",
       "    <tr>\n",
       "      <th>1</th>\n",
       "      <td>2544</td>\n",
       "      <td>3</td>\n",
       "      <td>22</td>\n",
       "      <td>13</td>\n",
       "      <td>0</td>\n",
       "      <td>36</td>\n",
       "      <td>3</td>\n",
       "      <td>6500</td>\n",
       "      <td>NaN</td>\n",
       "      <td>10</td>\n",
       "      <td>72</td>\n",
       "      <td>17</td>\n",
       "      <td>14</td>\n",
       "      <td>2</td>\n",
       "      <td>2011</td>\n",
       "    </tr>\n",
       "  </tbody>\n",
       "</table>\n",
       "</div>"
      ],
      "text/plain": [
       "     ID  Account  Province  Region  Tender_Type  Length_of_contract_in_Months  \\\n",
       "0  2543       51        11      11            1                             4   \n",
       "1  2544        3        22      13            0                            36   \n",
       "\n",
       "   Market  Tender_Standard_Unit_per_year  Winning_price_per_standard_unit  \\\n",
       "0       3                          28800                              NaN   \n",
       "1       3                           6500                              NaN   \n",
       "\n",
       "   Presentation  Winning_Product  Winning_Company Date_of_Offer  \\\n",
       "0            10               72               17            28   \n",
       "1            10               72               17            14   \n",
       "\n",
       "  Month_of_Offer  Year_of_Offer  \n",
       "0              2           2011  \n",
       "1              2           2011  "
      ]
     },
     "execution_count": 79,
     "metadata": {},
     "output_type": "execute_result"
    }
   ],
   "source": [
    "Sub_Test_df.head(2)"
   ]
  },
  {
   "cell_type": "code",
   "execution_count": 80,
   "metadata": {
    "collapsed": true
   },
   "outputs": [],
   "source": [
    "Sub_Train_df.drop(\"ID\",axis=1,inplace=True)\n",
    "Sub_Test_df.drop([\"Winning_price_per_standard_unit\"],axis=1,inplace=True)"
   ]
  },
  {
   "cell_type": "code",
   "execution_count": 81,
   "metadata": {
    "collapsed": false
   },
   "outputs": [],
   "source": [
    "#Training and testing data\n",
    "X_train = Sub_Train_df.drop(\"Winning_price_per_standard_unit\",axis=1)\n",
    "Y_train = Sub_Train_df[\"Winning_price_per_standard_unit\"]\n",
    "X_test = Sub_Test_df.drop(\"ID\",axis=1)"
   ]
  },
  {
   "cell_type": "code",
   "execution_count": 82,
   "metadata": {
    "collapsed": false
   },
   "outputs": [
    {
     "name": "stdout",
     "output_type": "stream",
     "text": [
      "<class 'pandas.core.frame.DataFrame'>\n",
      "Int64Index: 745 entries, 0 to 785\n",
      "Data columns (total 13 columns):\n",
      "Account                          745 non-null int64\n",
      "Province                         745 non-null int64\n",
      "Region                           745 non-null int64\n",
      "Tender_Type                      745 non-null int64\n",
      "Length_of_contract_in_Months     745 non-null int64\n",
      "Market                           745 non-null int64\n",
      "Tender_Standard_Unit_per_year    745 non-null float64\n",
      "Presentation                     745 non-null int64\n",
      "Winning_Product                  745 non-null int64\n",
      "Winning_Company                  745 non-null int64\n",
      "Date_of_Offer                    745 non-null object\n",
      "Month_of_Offer                   745 non-null object\n",
      "Year_of_Offer                    745 non-null int64\n",
      "dtypes: float64(1), int64(10), object(2)\n",
      "memory usage: 81.5+ KB\n"
     ]
    }
   ],
   "source": [
    "X_train.info()"
   ]
  },
  {
   "cell_type": "code",
   "execution_count": 83,
   "metadata": {
    "collapsed": false
   },
   "outputs": [
    {
     "data": {
      "text/plain": [
       "0.41479177817909407"
      ]
     },
     "execution_count": 83,
     "metadata": {},
     "output_type": "execute_result"
    }
   ],
   "source": [
    "# Linear Regression\n",
    "from sklearn.linear_model import LinearRegression\n",
    "lreg = LinearRegression()\n",
    "clf = lreg.fit(X_train, Y_train)\n",
    "Y_pred = lreg.predict(X_test)\n",
    "lreg.score(X_train, Y_train)"
   ]
  },
  {
   "cell_type": "code",
   "execution_count": 85,
   "metadata": {
    "collapsed": false
   },
   "outputs": [
    {
     "data": {
      "text/plain": [
       "0.96237120150906763"
      ]
     },
     "execution_count": 85,
     "metadata": {},
     "output_type": "execute_result"
    }
   ],
   "source": [
    "#Random forest regressor\n",
    "rf = RandomForestRegressor(n_jobs = -1, n_estimators = 15)\n",
    "rf.fit(X_train, Y_train)\n",
    "Y_pred = rf.predict(X_test)\n",
    "rf.score(X_train,Y_train)"
   ]
  },
  {
   "cell_type": "code",
   "execution_count": 86,
   "metadata": {
    "collapsed": true
   },
   "outputs": [],
   "source": [
    "Submission = pd.DataFrame({\n",
    "        \"ID\": Sub_Test_df[\"ID\"],\n",
    "        \"Winning_price_per_standard_unit\": Y_pred\n",
    "        \n",
    "    })\n",
    "Submission.to_csv('RandomR.csv', index=False)"
   ]
  },
  {
   "cell_type": "code",
   "execution_count": null,
   "metadata": {
    "collapsed": true
   },
   "outputs": [],
   "source": []
  }
 ],
 "metadata": {
  "kernelspec": {
   "display_name": "Python 2",
   "language": "python",
   "name": "python2"
  },
  "language_info": {
   "codemirror_mode": {
    "name": "ipython",
    "version": 2
   },
   "file_extension": ".py",
   "mimetype": "text/x-python",
   "name": "python",
   "nbconvert_exporter": "python",
   "pygments_lexer": "ipython2",
   "version": "2.7.10"
  }
 },
 "nbformat": 4,
 "nbformat_minor": 0
}
