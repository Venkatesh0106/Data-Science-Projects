{
 "cells": [
  {
   "cell_type": "code",
   "execution_count": 1,
   "metadata": {
    "collapsed": true
   },
   "outputs": [],
   "source": [
    "%matplotlib inline\n",
    "import pandas as pd\n",
    "from pandas import Series,DataFrame\n",
    "import numpy as np\n",
    "import matplotlib.pyplot as plt\n",
    "import seaborn as sns\n",
    "sns.set_style('whitegrid')\n",
    "import csv\n",
    "import gzip\n",
    "from sklearn import metrics\n",
    "from sklearn.linear_model import LogisticRegression\n",
    "from sklearn.svm import SVC, LinearSVC\n",
    "from sklearn.ensemble import RandomForestClassifier\n",
    "from sklearn import cross_validation\n",
    "from sklearn.feature_selection import SelectKBest\n",
    "from sklearn.feature_selection import chi2\n"
   ]
  },
  {
   "cell_type": "code",
   "execution_count": 2,
   "metadata": {
    "collapsed": true
   },
   "outputs": [],
   "source": [
    "Home_loan_df = pd.read_csv(\"train_u6lujuX.csv\")\n",
    "Test_df = pd.read_csv(\"test_Y3wMUE5.csv\")\n",
    "Sample_submission = pd.read_csv(\"Sample_Submission_ZAuTl8O.csv\")"
   ]
  },
  {
   "cell_type": "code",
   "execution_count": 16,
   "metadata": {
    "collapsed": false,
    "scrolled": true
   },
   "outputs": [
    {
     "name": "stdout",
     "output_type": "stream",
     "text": [
      "<class 'pandas.core.frame.DataFrame'>\n",
      "Int64Index: 614 entries, 0 to 613\n",
      "Data columns (total 13 columns):\n",
      "Loan_ID              614 non-null object\n",
      "Gender               601 non-null float64\n",
      "Married              611 non-null float64\n",
      "Dependents           599 non-null object\n",
      "Education            614 non-null int64\n",
      "Self_Employed        582 non-null float64\n",
      "ApplicantIncome      614 non-null int64\n",
      "CoapplicantIncome    614 non-null float64\n",
      "LoanAmount           592 non-null float64\n",
      "Loan_Amount_Term     600 non-null float64\n",
      "Credit_History       564 non-null float64\n",
      "Property_Area        614 non-null int64\n",
      "Loan_Status          614 non-null int64\n",
      "dtypes: float64(7), int64(4), object(2)\n",
      "memory usage: 67.2+ KB\n"
     ]
    }
   ],
   "source": [
    "Home_loan_df.info()"
   ]
  },
  {
   "cell_type": "code",
   "execution_count": 9,
   "metadata": {
    "collapsed": false
   },
   "outputs": [],
   "source": [
    "#convert gender value to numeric for train and test\n",
    "ordered_gender = Home_loan_df[\"Gender\"].value_counts().index.order()\n",
    "map_values_dict = Series(range(0,len(ordered_gender)),index = ordered_gender).to_dict()\n",
    "Home_loan_df[\"Gender\"] = Home_loan_df[\"Gender\"].map(map_values_dict)\n",
    "\n",
    "#for test_df\n",
    "ordered_gender_test = Test_df[\"Gender\"].value_counts().index.order()\n",
    "map_values_dict = Series(range(0,len(ordered_gender_test)),index = ordered_gender_test).to_dict()\n",
    "Test_df[\"Gender\"] = Test_df[\"Gender\"].map(map_values_dict)"
   ]
  },
  {
   "cell_type": "code",
   "execution_count": 10,
   "metadata": {
    "collapsed": false
   },
   "outputs": [],
   "source": [
    "#train\n",
    "ordered_married = Home_loan_df[\"Married\"].value_counts().index.order()\n",
    "map_values_dict = Series(range(0,len(ordered_married)),index = ordered_married).to_dict()\n",
    "Home_loan_df[\"Married\"] = Home_loan_df[\"Married\"].map(map_values_dict)\n",
    "\n",
    "#Test\n",
    "ordered_married_test = Test_df[\"Married\"].value_counts().index.order()\n",
    "map_values_dict = Series(range(0,len(ordered_married_test)),index = ordered_married_test).to_dict()\n",
    "Test_df[\"Married\"] = Test_df[\"Married\"].map(map_values_dict)"
   ]
  },
  {
   "cell_type": "code",
   "execution_count": 11,
   "metadata": {
    "collapsed": true
   },
   "outputs": [],
   "source": [
    "#Train\n",
    "ordered_Education = Home_loan_df[\"Education\"].value_counts().index.order()\n",
    "map_values_dict = Series(range(0,len(ordered_Education)),index = ordered_Education).to_dict()\n",
    "Home_loan_df[\"Education\"] = Home_loan_df[\"Education\"].map(map_values_dict)\n",
    "\n",
    "#Test\n",
    "ordered_Education_test = Test_df[\"Education\"].value_counts().index.order()\n",
    "map_values_dict = Series(range(0,len(ordered_Education_test)),index = ordered_Education_test).to_dict()\n",
    "Test_df[\"Education\"] = Test_df[\"Education\"].map(map_values_dict)\n"
   ]
  },
  {
   "cell_type": "code",
   "execution_count": 12,
   "metadata": {
    "collapsed": true
   },
   "outputs": [],
   "source": [
    "#Train\n",
    "ordered_Selfemp = Home_loan_df[\"Self_Employed\"].value_counts().index.order()\n",
    "map_values_dict = Series(range(0,len(ordered_Selfemp)),index = ordered_Selfemp).to_dict()\n",
    "Home_loan_df[\"Self_Employed\"] = Home_loan_df[\"Self_Employed\"].map(map_values_dict)\n",
    "\n",
    "#Test\n",
    "ordered_Selfemp_test = Test_df[\"Self_Employed\"].value_counts().index.order()\n",
    "map_values_dict = Series(range(0,len(ordered_Selfemp_test)),index = ordered_Selfemp_test).to_dict()\n",
    "Test_df[\"Self_Employed\"] = Test_df[\"Self_Employed\"].map(map_values_dict)"
   ]
  },
  {
   "cell_type": "code",
   "execution_count": 13,
   "metadata": {
    "collapsed": false
   },
   "outputs": [],
   "source": [
    "ordered_Property = Home_loan_df[\"Property_Area\"].value_counts().index.order()\n",
    "map_values_dict = Series(range(0,len(ordered_Property)),index = ordered_Property).to_dict()\n",
    "Home_loan_df[\"Property_Area\"] = Home_loan_df[\"Property_Area\"].map(map_values_dict)\n",
    "\n",
    "ordered_Property_test = Test_df[\"Property_Area\"].value_counts().index.order()\n",
    "map_values_dict = Series(range(0,len(ordered_Property_test)),index = ordered_Property_test).to_dict()\n",
    "Test_df[\"Property_Area\"] = Test_df[\"Property_Area\"].map(map_values_dict)"
   ]
  },
  {
   "cell_type": "code",
   "execution_count": 14,
   "metadata": {
    "collapsed": true
   },
   "outputs": [],
   "source": [
    "ordered_loanstatus = Home_loan_df[\"Loan_Status\"].value_counts().index.order()\n",
    "map_values_dict = Series(range(0,len(ordered_loanstatus)),index = ordered_loanstatus).to_dict()\n",
    "Home_loan_df[\"Loan_Status\"] = Home_loan_df[\"Loan_Status\"].map(map_values_dict)"
   ]
  },
  {
   "cell_type": "code",
   "execution_count": 15,
   "metadata": {
    "collapsed": false,
    "scrolled": true
   },
   "outputs": [
    {
     "data": {
      "text/html": [
       "<div>\n",
       "<table border=\"1\" class=\"dataframe\">\n",
       "  <thead>\n",
       "    <tr style=\"text-align: right;\">\n",
       "      <th></th>\n",
       "      <th>Gender</th>\n",
       "      <th>Married</th>\n",
       "      <th>Education</th>\n",
       "      <th>Self_Employed</th>\n",
       "      <th>ApplicantIncome</th>\n",
       "      <th>CoapplicantIncome</th>\n",
       "      <th>LoanAmount</th>\n",
       "      <th>Loan_Amount_Term</th>\n",
       "      <th>Credit_History</th>\n",
       "      <th>Property_Area</th>\n",
       "      <th>Loan_Status</th>\n",
       "    </tr>\n",
       "  </thead>\n",
       "  <tbody>\n",
       "    <tr>\n",
       "      <th>Gender</th>\n",
       "      <td>1.000000</td>\n",
       "      <td>0.369612</td>\n",
       "      <td>0.049258</td>\n",
       "      <td>-0.009829</td>\n",
       "      <td>0.053989</td>\n",
       "      <td>0.083946</td>\n",
       "      <td>0.106947</td>\n",
       "      <td>-0.075117</td>\n",
       "      <td>0.016337</td>\n",
       "      <td>-0.024556</td>\n",
       "      <td>0.019857</td>\n",
       "    </tr>\n",
       "    <tr>\n",
       "      <th>Married</th>\n",
       "      <td>0.369612</td>\n",
       "      <td>1.000000</td>\n",
       "      <td>0.014223</td>\n",
       "      <td>0.001909</td>\n",
       "      <td>0.051332</td>\n",
       "      <td>0.077770</td>\n",
       "      <td>0.149519</td>\n",
       "      <td>-0.103810</td>\n",
       "      <td>0.004381</td>\n",
       "      <td>0.002918</td>\n",
       "      <td>0.089280</td>\n",
       "    </tr>\n",
       "    <tr>\n",
       "      <th>Education</th>\n",
       "      <td>0.049258</td>\n",
       "      <td>0.014223</td>\n",
       "      <td>1.000000</td>\n",
       "      <td>-0.012333</td>\n",
       "      <td>-0.140760</td>\n",
       "      <td>-0.062290</td>\n",
       "      <td>-0.171133</td>\n",
       "      <td>-0.078784</td>\n",
       "      <td>-0.081822</td>\n",
       "      <td>-0.065243</td>\n",
       "      <td>-0.085884</td>\n",
       "    </tr>\n",
       "    <tr>\n",
       "      <th>Self_Employed</th>\n",
       "      <td>-0.009829</td>\n",
       "      <td>0.001909</td>\n",
       "      <td>-0.012333</td>\n",
       "      <td>1.000000</td>\n",
       "      <td>0.140826</td>\n",
       "      <td>-0.011152</td>\n",
       "      <td>0.123931</td>\n",
       "      <td>-0.037069</td>\n",
       "      <td>0.003883</td>\n",
       "      <td>-0.031214</td>\n",
       "      <td>-0.002303</td>\n",
       "    </tr>\n",
       "    <tr>\n",
       "      <th>ApplicantIncome</th>\n",
       "      <td>0.053989</td>\n",
       "      <td>0.051332</td>\n",
       "      <td>-0.140760</td>\n",
       "      <td>0.140826</td>\n",
       "      <td>1.000000</td>\n",
       "      <td>-0.116605</td>\n",
       "      <td>0.570909</td>\n",
       "      <td>-0.045306</td>\n",
       "      <td>-0.014715</td>\n",
       "      <td>-0.009500</td>\n",
       "      <td>-0.004710</td>\n",
       "    </tr>\n",
       "    <tr>\n",
       "      <th>CoapplicantIncome</th>\n",
       "      <td>0.083946</td>\n",
       "      <td>0.077770</td>\n",
       "      <td>-0.062290</td>\n",
       "      <td>-0.011152</td>\n",
       "      <td>-0.116605</td>\n",
       "      <td>1.000000</td>\n",
       "      <td>0.188619</td>\n",
       "      <td>-0.059878</td>\n",
       "      <td>-0.002056</td>\n",
       "      <td>0.010522</td>\n",
       "      <td>-0.059187</td>\n",
       "    </tr>\n",
       "    <tr>\n",
       "      <th>LoanAmount</th>\n",
       "      <td>0.106947</td>\n",
       "      <td>0.149519</td>\n",
       "      <td>-0.171133</td>\n",
       "      <td>0.123931</td>\n",
       "      <td>0.570909</td>\n",
       "      <td>0.188619</td>\n",
       "      <td>1.000000</td>\n",
       "      <td>0.039447</td>\n",
       "      <td>-0.008433</td>\n",
       "      <td>-0.045792</td>\n",
       "      <td>-0.037318</td>\n",
       "    </tr>\n",
       "    <tr>\n",
       "      <th>Loan_Amount_Term</th>\n",
       "      <td>-0.075117</td>\n",
       "      <td>-0.103810</td>\n",
       "      <td>-0.078784</td>\n",
       "      <td>-0.037069</td>\n",
       "      <td>-0.045306</td>\n",
       "      <td>-0.059878</td>\n",
       "      <td>0.039447</td>\n",
       "      <td>1.000000</td>\n",
       "      <td>0.001470</td>\n",
       "      <td>-0.078748</td>\n",
       "      <td>-0.021268</td>\n",
       "    </tr>\n",
       "    <tr>\n",
       "      <th>Credit_History</th>\n",
       "      <td>0.016337</td>\n",
       "      <td>0.004381</td>\n",
       "      <td>-0.081822</td>\n",
       "      <td>0.003883</td>\n",
       "      <td>-0.014715</td>\n",
       "      <td>-0.002056</td>\n",
       "      <td>-0.008433</td>\n",
       "      <td>0.001470</td>\n",
       "      <td>1.000000</td>\n",
       "      <td>-0.001969</td>\n",
       "      <td>0.561678</td>\n",
       "    </tr>\n",
       "    <tr>\n",
       "      <th>Property_Area</th>\n",
       "      <td>-0.024556</td>\n",
       "      <td>0.002918</td>\n",
       "      <td>-0.065243</td>\n",
       "      <td>-0.031214</td>\n",
       "      <td>-0.009500</td>\n",
       "      <td>0.010522</td>\n",
       "      <td>-0.045792</td>\n",
       "      <td>-0.078748</td>\n",
       "      <td>-0.001969</td>\n",
       "      <td>1.000000</td>\n",
       "      <td>0.032112</td>\n",
       "    </tr>\n",
       "    <tr>\n",
       "      <th>Loan_Status</th>\n",
       "      <td>0.019857</td>\n",
       "      <td>0.089280</td>\n",
       "      <td>-0.085884</td>\n",
       "      <td>-0.002303</td>\n",
       "      <td>-0.004710</td>\n",
       "      <td>-0.059187</td>\n",
       "      <td>-0.037318</td>\n",
       "      <td>-0.021268</td>\n",
       "      <td>0.561678</td>\n",
       "      <td>0.032112</td>\n",
       "      <td>1.000000</td>\n",
       "    </tr>\n",
       "  </tbody>\n",
       "</table>\n",
       "</div>"
      ],
      "text/plain": [
       "                     Gender   Married  Education  Self_Employed  \\\n",
       "Gender             1.000000  0.369612   0.049258      -0.009829   \n",
       "Married            0.369612  1.000000   0.014223       0.001909   \n",
       "Education          0.049258  0.014223   1.000000      -0.012333   \n",
       "Self_Employed     -0.009829  0.001909  -0.012333       1.000000   \n",
       "ApplicantIncome    0.053989  0.051332  -0.140760       0.140826   \n",
       "CoapplicantIncome  0.083946  0.077770  -0.062290      -0.011152   \n",
       "LoanAmount         0.106947  0.149519  -0.171133       0.123931   \n",
       "Loan_Amount_Term  -0.075117 -0.103810  -0.078784      -0.037069   \n",
       "Credit_History     0.016337  0.004381  -0.081822       0.003883   \n",
       "Property_Area     -0.024556  0.002918  -0.065243      -0.031214   \n",
       "Loan_Status        0.019857  0.089280  -0.085884      -0.002303   \n",
       "\n",
       "                   ApplicantIncome  CoapplicantIncome  LoanAmount  \\\n",
       "Gender                    0.053989           0.083946    0.106947   \n",
       "Married                   0.051332           0.077770    0.149519   \n",
       "Education                -0.140760          -0.062290   -0.171133   \n",
       "Self_Employed             0.140826          -0.011152    0.123931   \n",
       "ApplicantIncome           1.000000          -0.116605    0.570909   \n",
       "CoapplicantIncome        -0.116605           1.000000    0.188619   \n",
       "LoanAmount                0.570909           0.188619    1.000000   \n",
       "Loan_Amount_Term         -0.045306          -0.059878    0.039447   \n",
       "Credit_History           -0.014715          -0.002056   -0.008433   \n",
       "Property_Area            -0.009500           0.010522   -0.045792   \n",
       "Loan_Status              -0.004710          -0.059187   -0.037318   \n",
       "\n",
       "                   Loan_Amount_Term  Credit_History  Property_Area  \\\n",
       "Gender                    -0.075117        0.016337      -0.024556   \n",
       "Married                   -0.103810        0.004381       0.002918   \n",
       "Education                 -0.078784       -0.081822      -0.065243   \n",
       "Self_Employed             -0.037069        0.003883      -0.031214   \n",
       "ApplicantIncome           -0.045306       -0.014715      -0.009500   \n",
       "CoapplicantIncome         -0.059878       -0.002056       0.010522   \n",
       "LoanAmount                 0.039447       -0.008433      -0.045792   \n",
       "Loan_Amount_Term           1.000000        0.001470      -0.078748   \n",
       "Credit_History             0.001470        1.000000      -0.001969   \n",
       "Property_Area             -0.078748       -0.001969       1.000000   \n",
       "Loan_Status               -0.021268        0.561678       0.032112   \n",
       "\n",
       "                   Loan_Status  \n",
       "Gender                0.019857  \n",
       "Married               0.089280  \n",
       "Education            -0.085884  \n",
       "Self_Employed        -0.002303  \n",
       "ApplicantIncome      -0.004710  \n",
       "CoapplicantIncome    -0.059187  \n",
       "LoanAmount           -0.037318  \n",
       "Loan_Amount_Term     -0.021268  \n",
       "Credit_History        0.561678  \n",
       "Property_Area         0.032112  \n",
       "Loan_Status           1.000000  "
      ]
     },
     "execution_count": 15,
     "metadata": {},
     "output_type": "execute_result"
    }
   ],
   "source": [
    "Home_loan_df.corr(method='pearson')"
   ]
  },
  {
   "cell_type": "markdown",
   "metadata": {},
   "source": [
    "With the help of this we can see that the relation between Credit History and loan status is 0.5616 which indicates that Credit history is an important feature for loan prediction."
   ]
  },
  {
   "cell_type": "code",
   "execution_count": 14,
   "metadata": {
    "collapsed": false
   },
   "outputs": [],
   "source": [
    "#fill the missing values\n",
    "#Gender\n",
    "Home_loan_df.Gender.fillna(1, inplace = True)\n",
    "Test_df.Gender.fillna(1, inplace= True)\n",
    "\n",
    "#married \n",
    "Home_loan_df.Married.fillna(1,inplace = True)\n",
    "Test_df.Married.fillna(1,inplace=True)\n",
    "\n",
    "#Dependents \n",
    "Home_loan_df.Dependents.fillna(0,inplace = True)\n",
    "Test_df.Dependents.fillna(0,inplace=True)\n",
    "\n",
    "#Self-Employed\n",
    "Home_loan_df.Self_Employed.fillna(0,inplace = True)\n",
    "Test_df.Self_Employed.fillna(0,inplace=True)\n",
    "\n",
    "#credit History \n",
    "Home_loan_df.Credit_History.fillna(1,inplace=True)\n",
    "Test_df.Credit_History.fillna(1,inplace = True)\n",
    "\n",
    "#loan amount term\n",
    "Home_loan_df.Loan_Amount_Term.fillna(360.0,inplace=True)\n",
    "Test_df.Loan_Amount_Term.fillna(360.0,inplace = True)"
   ]
  },
  {
   "cell_type": "code",
   "execution_count": 15,
   "metadata": {
    "collapsed": false
   },
   "outputs": [],
   "source": [
    "#Dependents \n",
    "Home_loan_df[\"Dependents\"] = Home_loan_df[\"Dependents\"].map({0: 0, \"0\": 0, \"1\": 1, \"2\": 2, \"3+\": 3})\n",
    "Test_df[\"Dependents\"] = Test_df[\"Dependents\"].map({0: 0, \"0\": 0, \"1\": 1, \"2\": 2, \"3+\": 3})"
   ]
  },
  {
   "cell_type": "code",
   "execution_count": 16,
   "metadata": {
    "collapsed": false
   },
   "outputs": [
    {
     "name": "stderr",
     "output_type": "stream",
     "text": [
      "C:\\Users\\Venkatesh\\Anaconda\\lib\\site-packages\\IPython\\kernel\\__main__.py:25: SettingWithCopyWarning: \n",
      "A value is trying to be set on a copy of a slice from a DataFrame\n",
      "\n",
      "See the the caveats in the documentation: http://pandas.pydata.org/pandas-docs/stable/indexing.html#indexing-view-versus-copy\n",
      "C:\\Users\\Venkatesh\\Anaconda\\lib\\site-packages\\IPython\\kernel\\__main__.py:26: SettingWithCopyWarning: \n",
      "A value is trying to be set on a copy of a slice from a DataFrame\n",
      "\n",
      "See the the caveats in the documentation: http://pandas.pydata.org/pandas-docs/stable/indexing.html#indexing-view-versus-copy\n"
     ]
    }
   ],
   "source": [
    "#lets now fill in the missing values in  Applicantincome and co-applicantincome\n",
    "# get average, std, and number of NaN values in Home_loan_df\n",
    "average_loanamount = Home_loan_df[\"LoanAmount\"].mean()\n",
    "#print average_loanamount\n",
    "std_loanamount = Home_loan_df[\"LoanAmount\"].std()\n",
    "#print std_loanamount\n",
    "count_nan_loanamount = Home_loan_df[\"LoanAmount\"].isnull().sum()\n",
    "#print count_nan_loanamount\n",
    "\n",
    "# get average, std, and number of NaN values in test_df\n",
    "average_loanamount_test   = Test_df[\"LoanAmount\"].mean()\n",
    "#print average_loanamount_test\n",
    "std_loanamount_test  = Test_df[\"LoanAmount\"].std()\n",
    "#print std_loanamount_test\n",
    "count_nan_loanamount_test = Test_df[\"LoanAmount\"].isnull().sum()\n",
    "#print count_nan_loanamount_test\n",
    "\n",
    "# generate random numbers between (mean - std) & (mean + std)\n",
    "rand_1 = np.random.randint(average_loanamount - std_loanamount, average_loanamount + std_loanamount, size = count_nan_loanamount)\n",
    "rand_2 = np.random.randint(average_loanamount_test - std_loanamount_test, average_loanamount_test + std_loanamount_test, size = count_nan_loanamount_test)\n",
    "#print rand_1\n",
    "#print rand_2\n",
    "\n",
    "# fill NaN values in Age column with random values generated\n",
    "Home_loan_df[\"LoanAmount\"][np.isnan(Home_loan_df[\"LoanAmount\"])] = rand_1\n",
    "Test_df[\"LoanAmount\"][np.isnan(Test_df[\"LoanAmount\"])] = rand_2\n",
    "\n",
    "# convert from float to int\n",
    "Home_loan_df[\"LoanAmount\"] = Home_loan_df[\"LoanAmount\"].astype(int)\n",
    "Test_df[\"LoanAmount\"]  = Test_df[\"LoanAmount\"].astype(int)\n"
   ]
  },
  {
   "cell_type": "code",
   "execution_count": 13,
   "metadata": {
    "collapsed": false
   },
   "outputs": [
    {
     "data": {
      "text/plain": [
       "<matplotlib.axes._subplots.AxesSubplot at 0x18c4ce48>"
      ]
     },
     "execution_count": 13,
     "metadata": {},
     "output_type": "execute_result"
    },
    {
     "data": {
      "image/png": "[encoded data removed]",
      "text/plain": [
       "<matplotlib.figure.Figure at 0x18c4c240>"
      ]
     },
     "metadata": {},
     "output_type": "display_data"
    }
   ],
   "source": [
    "#Now lets visualize our data\n",
    "fig,(axis1,axis2) = plt.subplots(1,2,figsize=(15,4))\n",
    "sns.countplot(x=\"Education\", data=Home_loan_df, ax=axis2)\n",
    "sns.barplot(x=\"Education\", y=\"Loan_Status\", data=Home_loan_df,ax=axis1)"
   ]
  },
  {
   "cell_type": "markdown",
   "metadata": {},
   "source": [
    "Here we visualize that education can be considered as slightly important factor when it comes to providing loans but it is not that important. However if compared with other features it can be taken into consideration."
   ]
  },
  {
   "cell_type": "code",
   "execution_count": 14,
   "metadata": {
    "collapsed": false
   },
   "outputs": [
    {
     "data": {
      "text/plain": [
       "<matplotlib.axes._subplots.AxesSubplot at 0x190a4e10>"
      ]
     },
     "execution_count": 14,
     "metadata": {},
     "output_type": "execute_result"
    },
    {
     "data": {
      "image/png": "[encoded data removed]",
      "text/plain": [
       "<matplotlib.figure.Figure at 0x18d5f160>"
      ]
     },
     "metadata": {},
     "output_type": "display_data"
    }
   ],
   "source": [
    "#Lets check if self-Employee is an important factor when it comes to giving loans\n",
    "fig,(axis1,axis2) = plt.subplots(1,2,figsize=(15,4))\n",
    "sns.barplot(x=\"Self_Employed\", y=\"Loan_Status\", data=Home_loan_df,ax=axis1)\n",
    "sns.countplot(x=\"Self_Employed\", data=Home_loan_df, ax=axis2)"
   ]
  },
  {
   "cell_type": "markdown",
   "metadata": {},
   "source": [
    "Here we can say that Self_Employed is surely not an important factor when it comes to giving loan. "
   ]
  },
  {
   "cell_type": "code",
   "execution_count": 15,
   "metadata": {
    "collapsed": false
   },
   "outputs": [
    {
     "data": {
      "text/plain": [
       "<matplotlib.axes._subplots.AxesSubplot at 0x1945d710>"
      ]
     },
     "execution_count": 15,
     "metadata": {},
     "output_type": "execute_result"
    },
    {
     "data": {
      "image/png": "[encoded data removed]",
      "text/plain": [
       "<matplotlib.figure.Figure at 0x191c3e10>"
      ]
     },
     "metadata": {},
     "output_type": "display_data"
    }
   ],
   "source": [
    "#Credit History\n",
    "fig,(axis1,axis2) = plt.subplots(1,2,figsize=(15,4))\n",
    "sns.barplot(x=\"Credit_History\", y=\"Loan_Status\", data=Home_loan_df,ax=axis1)\n",
    "sns.countplot(x=\"Credit_History\", data=Home_loan_df, ax=axis2)"
   ]
  },
  {
   "cell_type": "markdown",
   "metadata": {},
   "source": [
    "Now here is something which we see interesting! As said earlier that Credit_History is the most important feature and here too when we visualize our data we see that if the credit history is 0 then it is most likely that that person will not be given a loan from the company."
   ]
  },
  {
   "cell_type": "code",
   "execution_count": 16,
   "metadata": {
    "collapsed": true
   },
   "outputs": [],
   "source": [
    "#change the ID values\n",
    "Home_loan_df['Loan_ID2'] = Home_loan_df['Loan_ID'].apply(lambda x:int(str(x)[2:]))\n",
    "Test_df['Loan_ID2'] = Test_df['Loan_ID'].apply(lambda x:int(str(x)[2:]))"
   ]
  },
  {
   "cell_type": "code",
   "execution_count": 17,
   "metadata": {
    "collapsed": true
   },
   "outputs": [],
   "source": [
    "#drop the original loan_ID\n",
    "Home_loan_df = Home_loan_df.drop(\"Loan_ID\", axis = 1)\n",
    "Test_df = Test_df.drop(\"Loan_ID\", axis = 1)"
   ]
  },
  {
   "cell_type": "code",
   "execution_count": 22,
   "metadata": {
    "collapsed": true
   },
   "outputs": [],
   "source": [
    "New_Home_df = Home_loan_df.copy()\n",
    "New_Test_df = Test_df.copy()"
   ]
  },
  {
   "cell_type": "code",
   "execution_count": 23,
   "metadata": {
    "collapsed": true
   },
   "outputs": [],
   "source": [
    "New_Home_df.drop(\"Loan_ID2\", axis = 1, inplace = True)"
   ]
  },
  {
   "cell_type": "code",
   "execution_count": 24,
   "metadata": {
    "collapsed": false
   },
   "outputs": [
    {
     "data": {
      "text/plain": [
       "<matplotlib.axes._subplots.AxesSubplot at 0x1aaa4ef0>"
      ]
     },
     "execution_count": 24,
     "metadata": {},
     "output_type": "execute_result"
    },
    {
     "data": {
      "image/png": "[encoded data removed]",
      "text/plain": [
       "<matplotlib.figure.Figure at 0x1946cb70>"
      ]
     },
     "metadata": {},
     "output_type": "display_data"
    },
    {
     "data": {
      "image/png": "[encoded data removed]",
      "text/plain": [
       "<matplotlib.figure.Figure at 0x191c3da0>"
      ]
     },
     "metadata": {},
     "output_type": "display_data"
    }
   ],
   "source": [
    "# .... continue with plot Age column\n",
    "\n",
    "# peaks for survived/not survived passengers by their age\n",
    "facet = sns.FacetGrid(Home_loan_df, hue=\"Loan_Status\",aspect=4)\n",
    "facet.map(sns.kdeplot,'Loan_Amount_Term',shade= True)\n",
    "facet.set(xlim=(0, Home_loan_df['Loan_Amount_Term'].max()))\n",
    "facet.add_legend()\n",
    "\n",
    "# average survived passengers by age\n",
    "fig, axis1 = plt.subplots(1,1,figsize=(18,4))\n",
    "average_Income = Home_loan_df[[\"Loan_Amount_Term\", \"Loan_Status\"]].groupby(['Loan_Amount_Term'],as_index=False).mean()\n",
    "sns.barplot(x='Loan_Amount_Term', y='Loan_Status', data=Home_loan_df)"
   ]
  },
  {
   "cell_type": "markdown",
   "metadata": {},
   "source": [
    "In the first graph it clearly states that most of the applicants have took the option of loan amount term to be 360 months. The second graph shows the comparison of loan amount term to the loan status."
   ]
  },
  {
   "cell_type": "code",
   "execution_count": 25,
   "metadata": {
    "collapsed": false
   },
   "outputs": [],
   "source": [
    "#Training and testing data\n",
    "X_train = New_Home_df.drop(\"Loan_Status\",axis=1)\n",
    "Y_train = New_Home_df[\"Loan_Status\"]\n",
    "X_test  = New_Test_df.drop(\"Loan_ID2\",axis=1).copy()\n"
   ]
  },
  {
   "cell_type": "code",
   "execution_count": 22,
   "metadata": {
    "collapsed": true
   },
   "outputs": [],
   "source": [
    "#feature selection\n",
    "#X_new = SelectKBest(chi2, k=3).fit_transform(X_train, Y_train)"
   ]
  },
  {
   "cell_type": "code",
   "execution_count": 23,
   "metadata": {
    "collapsed": true
   },
   "outputs": [],
   "source": [
    "# Logistic Regression\n",
    "\n",
    "logreg = LogisticRegression()\n",
    "\n",
    "clf = logreg.fit(X_train, Y_train)"
   ]
  },
  {
   "cell_type": "code",
   "execution_count": 24,
   "metadata": {
    "collapsed": false
   },
   "outputs": [
    {
     "data": {
      "text/plain": [
       "array([ 0.77616893,  0.65550528,  0.67857143,  0.80419799,  0.69862155])"
      ]
     },
     "execution_count": 24,
     "metadata": {},
     "output_type": "execute_result"
    }
   ],
   "source": [
    "scores = cross_validation.cross_val_score(clf, X_train, Y_train,\n",
    "                                          cv=5, scoring='roc_auc')\n",
    "scores"
   ]
  },
  {
   "cell_type": "markdown",
   "metadata": {},
   "source": [
    "Logistic regression has given a good score and can be used for prediction."
   ]
  },
  {
   "cell_type": "markdown",
   "metadata": {},
   "source": [
   
   ]
  },
  {
   "cell_type": "code",
   "execution_count": 33,
   "metadata": {
    "collapsed": true
   },
   "outputs": [],
   "source": [
    "random_forest = RandomForestClassifier(n_estimators=150)\n",
    "\n",
    "clf = random_forest.fit(X_train, Y_train)"
   ]
  },
  {
   "cell_type": "code",
   "execution_count": 34,
   "metadata": {
    "collapsed": false
   },
   "outputs": [
    {
     "data": {
      "text/plain": [
       "array([ 0.81055807,  0.6811463 ,  0.77020677,  0.82424812,  0.7575188 ])"
      ]
     },
     "execution_count": 34,
     "metadata": {},
     "output_type": "execute_result"
    }
   ],
   "source": [
    "scores = cross_validation.cross_val_score(clf, X_train, Y_train,\n",
    "                                          cv=5, scoring='roc_auc')\n",
    "scores"
   ]
  },
  {
   "cell_type": "markdown",
   "metadata": {
    "collapsed": true
   },
   "source": [
    "Random forest also showed a fairly good performance like the logistic regression. However both show silimar performance so either of them can be used."
   ]
  },
  {
   "cell_type": "code",
   "execution_count": 29,
   "metadata": {
    "collapsed": false
   },
   "outputs": [],
   "source": [
    "from sklearn.ensemble import GradientBoostingClassifier\n",
    "Gradient_Boost = GradientBoostingClassifier(n_estimators=100, learning_rate=1.0,\n",
    "                                  max_depth=1, random_state=0)\n",
    "clf = Gradient_Boost.fit(X_train, Y_train)"
   ]
  },
  {
   "cell_type": "code",
   "execution_count": 31,
   "metadata": {
    "collapsed": false
   },
   "outputs": [
    {
     "data": {
      "text/plain": [
       "array([ 0.73167421,  0.69502262,  0.68389724,  0.81109023,  0.75031328])"
      ]
     },
     "execution_count": 31,
     "metadata": {},
     "output_type": "execute_result"
    }
   ],
   "source": [
    "scores = cross_validation.cross_val_score(clf, X_train, Y_train,\n",
    "                                          cv=5, scoring='roc_auc')\n",
    "scores"
   ]
  },
  {
   "cell_type": "code",
   "execution_count": 35,
   "metadata": {
    "collapsed": false
   },
   "outputs": [
    {
     "data": {
      "text/plain": [
       "1.0"
      ]
     },
     "execution_count": 35,
     "metadata": {},
     "output_type": "execute_result"
    }
   ],
   "source": [
    "# Random Forests\n",
    "\n",
    "#random_forest = RandomForestClassifier(n_estimators=150)\n",
    "\n",
    "#clf = random_forest.fit(X_train, Y_train)\n",
    "\n",
    "Y_pred = random_forest.predict(X_test)\n",
    "\n",
    "random_forest.score(X_train, Y_train)"
   ]
  },
  {
   "cell_type": "code",
   "execution_count": 30,
   "metadata": {
    "collapsed": false
   },
   "outputs": [],
   "source": [
    "foo = \"LP00\"\n",
    "submission = pd.DataFrame({\n",
    "        \"Loan_ID\": foo + \"\" + Test_df[\"Loan_ID2\"].map(str),\n",
    "        \"Loan_Status\": Y_pred\n",
    "        \n",
    "    })\n",
    "submission.to_csv(\"THEFINALRESULT.csv\", index = False)\n",
    "\n",
    "\n"
   ]
  },
  {
   "cell_type": "code",
   "execution_count": 31,
   "metadata": {
    "collapsed": false
   },
   "outputs": [],
   "source": [
    "Testedcsv = pd.read_csv(\"THEFINALRESULT.csv\")\n",
    "Testedcsv[\"Loan_Status\"] = Testedcsv[\"Loan_Status\"].map({0: \"N\", 1: \"Y\"})"
   ]
  },
  {
   "cell_type": "code",
   "execution_count": 32,
   "metadata": {
    "collapsed": true
   },
   "outputs": [],
   "source": [
    "submission = pd.DataFrame({\n",
    "        \"Loan_ID\": Testedcsv.Loan_ID,\n",
    "        \"Loan_Status\": Testedcsv.Loan_Status\n",
    "        \n",
    "    })\n",
    "submission.to_csv(\"THEFINALRESULT.csv\", index = False)"
   ]
  },
  {
   "cell_type": "markdown",
   "metadata": {},
   "source": [
    "##Conclusion\n",
    "This project's dataset is from Dream Housing Finance Company which was hosted on Analytics Vidhya."
   ]
  },
  {
   "cell_type": "code",
   "execution_count": null,
   "metadata": {
    "collapsed": true
   },
   "outputs": [],
   "source": []
  }
 ],
 "metadata": {
  "kernelspec": {
   "display_name": "Python 2",
   "language": "python",
   "name": "python2"
  },
  "language_info": {
   "codemirror_mode": {
    "name": "ipython",
    "version": 2
   },
   "file_extension": ".py",
   "mimetype": "text/x-python",
   "name": "python",
   "nbconvert_exporter": "python",
   "pygments_lexer": "ipython2",
   "version": "2.7.10"
  }
 },
 "nbformat": 4,
 "nbformat_minor": 0
}
