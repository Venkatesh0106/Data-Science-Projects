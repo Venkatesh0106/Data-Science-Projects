{
 "cells": [
  {
   "cell_type": "code",
   "execution_count": 49,
   "metadata": {
    "collapsed": true
   },
   "outputs": [],
   "source": [
    "# Imports\n",
    "\n",
    "# pandas\n",
    "import pandas as pd\n",
    "from pandas import Series,DataFrame\n",
    "\n",
    "# numpy, matplotlib, seaborn\n",
    "import numpy as np\n",
    "import matplotlib.pyplot as plt\n",
    "import seaborn as sns\n",
    "sns.set_style('whitegrid')\n",
    "%matplotlib inline\n",
    "\n",
    "# machine learning\n",
    "from sklearn.linear_model import LogisticRegression\n",
    "from sklearn.svm import SVC, LinearSVC\n",
    "from sklearn.ensemble import RandomForestClassifier\n",
    "from sklearn.neighbors import KNeighborsClassifier\n",
    "from sklearn.naive_bayes import GaussianNB\n",
    "from sklearn import cross_validation"
   ]
  },
  {
   "cell_type": "code",
   "execution_count": 2,
   "metadata": {
    "collapsed": true
   },
   "outputs": [],
   "source": [
    "Cab_train = pd.read_csv(\"Kaggle_YourCabs_training.csv\")\n",
    "Test_cab = pd.read_csv(\"Kaggle_YourCabs_score.csv\")\n",
    "Sample_submission = pd.read_csv(\"Kaggle_YourCabs_sample.csv\")"
   ]
  },
  {
   "cell_type": "code",
   "execution_count": 3,
   "metadata": {
    "collapsed": false
   },
   "outputs": [
    {
     "name": "stdout",
     "output_type": "stream",
     "text": [
      "<class 'pandas.core.frame.DataFrame'>\n",
      "Int64Index: 43431 entries, 0 to 43430\n",
      "Data columns (total 20 columns):\n",
      "id                     43431 non-null int64\n",
      "user_id                43431 non-null int64\n",
      "vehicle_model_id       43431 non-null int64\n",
      "package_id             7550 non-null float64\n",
      "travel_type_id         43431 non-null int64\n",
      "from_area_id           43343 non-null float64\n",
      "to_area_id             34293 non-null float64\n",
      "from_city_id           16345 non-null float64\n",
      "to_city_id             1588 non-null float64\n",
      "from_date              43431 non-null object\n",
      "to_date                25541 non-null float64\n",
      "online_booking         43431 non-null int64\n",
      "mobile_site_booking    43431 non-null int64\n",
      "booking_created        43431 non-null object\n",
      "from_lat               43338 non-null float64\n",
      "from_long              43338 non-null float64\n",
      "to_lat                 34293 non-null float64\n",
      "to_long                34293 non-null float64\n",
      "Car_Cancellation       43431 non-null int64\n",
      "Cost_of_error          43431 non-null float64\n",
      "dtypes: float64(11), int64(7), object(2)\n",
      "memory usage: 7.0+ MB\n",
      "<class 'pandas.core.frame.DataFrame'>\n",
      "Int64Index: 10000 entries, 0 to 9999\n",
      "Data columns (total 20 columns):\n",
      "id                     10000 non-null int64\n",
      "user_id                10000 non-null int64\n",
      "vehicle_model_id       10000 non-null int64\n",
      "package_id             1785 non-null float64\n",
      "travel_type_id         10000 non-null int64\n",
      "from_area_id           9980 non-null float64\n",
      "to_area_id             7850 non-null float64\n",
      "from_city_id           3712 non-null float64\n",
      "to_city_id             365 non-null float64\n",
      "from_date              10000 non-null object\n",
      "to_date                5873 non-null object\n",
      "online_booking         10000 non-null int64\n",
      "mobile_site_booking    10000 non-null int64\n",
      "booking_created        10000 non-null object\n",
      "from_lat               9980 non-null float64\n",
      "from_long              9980 non-null float64\n",
      "to_lat                 7850 non-null float64\n",
      "to_long                7850 non-null float64\n",
      "Unnamed: 18            0 non-null float64\n",
      "Unnamed: 19            0 non-null float64\n",
      "dtypes: float64(11), int64(6), object(3)\n",
      "memory usage: 1.6+ MB\n"
     ]
    }
   ],
   "source": [
    "Cab_train.info()\n",
    "Test_cab.info()"
   ]
  },
  {
   "cell_type": "code",
   "execution_count": 4,
   "metadata": {
    "collapsed": false
   },
   "outputs": [],
   "source": [
    "#Drop the columns which has very less values from both the training and the testing tests\n",
    "Cab_train = Cab_train.drop([\"package_id\", \"from_city_id\",\"to_city_id\", \"to_date\",\n",
    "                           \"from_lat\",\"from_long\",\"to_lat\",\"to_long\",\"Cost_of_error\"], axis = 1)\n",
    "\n",
    "\n",
    "Test_cab = Test_cab.drop([\"package_id\",\"from_city_id\",\"to_city_id\", \"to_date\",\n",
    "                          \"from_lat\",\"from_long\",\"to_lat\",\"to_long\",\n",
    "                          \"Unnamed: 18\",\"Unnamed: 19\"], axis = 1)\n"
   ]
  },
  {
   "cell_type": "code",
   "execution_count": 5,
   "metadata": {
    "collapsed": false
   },
   "outputs": [],
   "source": [
    "def create_month(x):\n",
    "    return x.split('/')[0]\n"
   ]
  },
  {
   "cell_type": "code",
   "execution_count": 6,
   "metadata": {
    "collapsed": true
   },
   "outputs": [],
   "source": [
    "def create_day(x):\n",
    "    return x.split('/')[1]"
   ]
  },
  {
   "cell_type": "code",
   "execution_count": 7,
   "metadata": {
    "collapsed": true
   },
   "outputs": [],
   "source": [
    "def create_year(x):\n",
    "    return x.split('/')[2]"
   ]
  },
  {
   "cell_type": "code",
   "execution_count": 8,
   "metadata": {
    "collapsed": false
   },
   "outputs": [],
   "source": [
    "Cab_train['Day_of_Journey'] = Cab_train.from_date.apply(create_day)\n",
    "Cab_train['Month_of_Journey'] = Cab_train.from_date.apply(create_month)\n",
    "Cab_train['YearTemp_of_Journey'] = Cab_train.from_date.apply(create_year)\n",
    "\n",
    "\n",
    "Test_cab['Day_of_Journey'] = Test_cab.from_date.apply(create_day)\n",
    "Test_cab['Month_of_Journey'] = Test_cab.from_date.apply(create_month)\n",
    "Test_cab['YearTemp_of_Journey'] = Test_cab.from_date.apply(create_year)\n",
    "\n",
    "Cab_train['Day_of_Booking'] = Cab_train.booking_created.apply(create_day)\n",
    "Cab_train['Month_of_Booking'] = Cab_train.booking_created.apply(create_month)\n",
    "Cab_train['YearTemp_of_Booking'] = Cab_train.booking_created.apply(create_year)\n",
    "\n",
    "\n",
    "Test_cab['Day_of_Booking'] = Test_cab.booking_created.apply(create_day)\n",
    "Test_cab['Month_of_Booking'] = Test_cab.booking_created.apply(create_month)\n",
    "Test_cab['YearTemp_of_Booking'] = Test_cab.booking_created.apply(create_year)\n",
    "\n"
   ]
  },
  {
   "cell_type": "code",
   "execution_count": 9,
   "metadata": {
    "collapsed": false
   },
   "outputs": [
    {
     "data": {
      "text/html": [
       "<div>\n",
       "<table border=\"1\" class=\"dataframe\">\n",
       "  <thead>\n",
       "    <tr style=\"text-align: right;\">\n",
       "      <th></th>\n",
       "      <th>id</th>\n",
       "      <th>user_id</th>\n",
       "      <th>vehicle_model_id</th>\n",
       "      <th>travel_type_id</th>\n",
       "      <th>from_area_id</th>\n",
       "      <th>to_area_id</th>\n",
       "      <th>from_date</th>\n",
       "      <th>online_booking</th>\n",
       "      <th>mobile_site_booking</th>\n",
       "      <th>booking_created</th>\n",
       "      <th>Car_Cancellation</th>\n",
       "      <th>Day_of_Journey</th>\n",
       "      <th>Month_of_Journey</th>\n",
       "      <th>YearTemp_of_Journey</th>\n",
       "      <th>Day_of_Booking</th>\n",
       "      <th>Month_of_Booking</th>\n",
       "      <th>YearTemp_of_Booking</th>\n",
       "    </tr>\n",
       "  </thead>\n",
       "  <tbody>\n",
       "    <tr>\n",
       "      <th>0</th>\n",
       "      <td>132512</td>\n",
       "      <td>22177</td>\n",
       "      <td>28</td>\n",
       "      <td>2</td>\n",
       "      <td>83</td>\n",
       "      <td>448</td>\n",
       "      <td>1/1/2013 2:00</td>\n",
       "      <td>0</td>\n",
       "      <td>0</td>\n",
       "      <td>1/1/2013 1:39</td>\n",
       "      <td>0</td>\n",
       "      <td>1</td>\n",
       "      <td>1</td>\n",
       "      <td>2013 2:00</td>\n",
       "      <td>1</td>\n",
       "      <td>1</td>\n",
       "      <td>2013 1:39</td>\n",
       "    </tr>\n",
       "  </tbody>\n",
       "</table>\n",
       "</div>"
      ],
      "text/plain": [
       "       id  user_id  vehicle_model_id  travel_type_id  from_area_id  \\\n",
       "0  132512    22177                28               2            83   \n",
       "\n",
       "   to_area_id      from_date  online_booking  mobile_site_booking  \\\n",
       "0         448  1/1/2013 2:00               0                    0   \n",
       "\n",
       "  booking_created  Car_Cancellation Day_of_Journey Month_of_Journey  \\\n",
       "0   1/1/2013 1:39                 0              1                1   \n",
       "\n",
       "  YearTemp_of_Journey Day_of_Booking Month_of_Booking YearTemp_of_Booking  \n",
       "0           2013 2:00              1                1           2013 1:39  "
      ]
     },
     "execution_count": 9,
     "metadata": {},
     "output_type": "execute_result"
    }
   ],
   "source": [
    "Cab_train.head(1)"
   ]
  },
  {
   "cell_type": "code",
   "execution_count": 10,
   "metadata": {
    "collapsed": false
   },
   "outputs": [],
   "source": [
    "Cab_train['Year_of_Journey']  = Cab_train['YearTemp_of_Journey'].apply(lambda x: int(str(x)[:5]))\n",
    "Test_cab['Year_of_Journey'] = Test_cab['YearTemp_of_Journey'].apply(lambda x: int(str(x)[:5]))\n",
    "\n",
    "Cab_train['Year_of_Booking']  = Cab_train['YearTemp_of_Booking'].apply(lambda x: int(str(x)[:5]))\n",
    "Test_cab['Year_of_Booking'] = Test_cab['YearTemp_of_Booking'].apply(lambda x: int(str(x)[:5]))\n"
   ]
  },
  {
   "cell_type": "code",
   "execution_count": 11,
   "metadata": {
    "collapsed": false
   },
   "outputs": [
    {
     "data": {
      "text/html": [
       "<div>\n",
       "<table border=\"1\" class=\"dataframe\">\n",
       "  <thead>\n",
       "    <tr style=\"text-align: right;\">\n",
       "      <th></th>\n",
       "      <th>id</th>\n",
       "      <th>user_id</th>\n",
       "      <th>vehicle_model_id</th>\n",
       "      <th>travel_type_id</th>\n",
       "      <th>from_area_id</th>\n",
       "      <th>to_area_id</th>\n",
       "      <th>from_date</th>\n",
       "      <th>online_booking</th>\n",
       "      <th>mobile_site_booking</th>\n",
       "      <th>booking_created</th>\n",
       "      <th>Car_Cancellation</th>\n",
       "      <th>Day_of_Journey</th>\n",
       "      <th>Month_of_Journey</th>\n",
       "      <th>YearTemp_of_Journey</th>\n",
       "      <th>Day_of_Booking</th>\n",
       "      <th>Month_of_Booking</th>\n",
       "      <th>YearTemp_of_Booking</th>\n",
       "      <th>Year_of_Journey</th>\n",
       "      <th>Year_of_Booking</th>\n",
       "    </tr>\n",
       "  </thead>\n",
       "  <tbody>\n",
       "    <tr>\n",
       "      <th>0</th>\n",
       "      <td>132512</td>\n",
       "      <td>22177</td>\n",
       "      <td>28</td>\n",
       "      <td>2</td>\n",
       "      <td>83</td>\n",
       "      <td>448</td>\n",
       "      <td>1/1/2013 2:00</td>\n",
       "      <td>0</td>\n",
       "      <td>0</td>\n",
       "      <td>1/1/2013 1:39</td>\n",
       "      <td>0</td>\n",
       "      <td>1</td>\n",
       "      <td>1</td>\n",
       "      <td>2013 2:00</td>\n",
       "      <td>1</td>\n",
       "      <td>1</td>\n",
       "      <td>2013 1:39</td>\n",
       "      <td>2013</td>\n",
       "      <td>2013</td>\n",
       "    </tr>\n",
       "  </tbody>\n",
       "</table>\n",
       "</div>"
      ],
      "text/plain": [
       "       id  user_id  vehicle_model_id  travel_type_id  from_area_id  \\\n",
       "0  132512    22177                28               2            83   \n",
       "\n",
       "   to_area_id      from_date  online_booking  mobile_site_booking  \\\n",
       "0         448  1/1/2013 2:00               0                    0   \n",
       "\n",
       "  booking_created  Car_Cancellation Day_of_Journey Month_of_Journey  \\\n",
       "0   1/1/2013 1:39                 0              1                1   \n",
       "\n",
       "  YearTemp_of_Journey Day_of_Booking Month_of_Booking YearTemp_of_Booking  \\\n",
       "0           2013 2:00              1                1           2013 1:39   \n",
       "\n",
       "   Year_of_Journey  Year_of_Booking  \n",
       "0             2013             2013  "
      ]
     },
     "execution_count": 11,
     "metadata": {},
     "output_type": "execute_result"
    }
   ],
   "source": [
    "Cab_train.head(1)"
   ]
  },
  {
   "cell_type": "code",
   "execution_count": 12,
   "metadata": {
    "collapsed": false
   },
   "outputs": [],
   "source": [
    "#drop the temp year column\n",
    "Cab_train.drop(\"YearTemp_of_Journey\", axis=1, inplace=True)\n",
    "Cab_train.drop(\"YearTemp_of_Booking\", axis=1, inplace=True)\n",
    "\n",
    "Test_cab.drop(\"YearTemp_of_Journey\", axis=1, inplace=True)\n",
    "Test_cab.drop(\"YearTemp_of_Booking\", axis=1, inplace=True)"
   ]
  },
  {
   "cell_type": "code",
   "execution_count": 13,
   "metadata": {
    "collapsed": false
   },
   "outputs": [],
   "source": [
    "#drop the booking created date and from date column\n",
    "Cab_train.drop(\"from_date\", axis = 1, inplace = True)\n",
    "Test_cab.drop(\"from_date\", axis = 1, inplace = True)\n",
    "\n",
    "#booking created \n",
    "Cab_train.drop(\"booking_created\", axis = 1, inplace = True)\n",
    "Test_cab.drop(\"booking_created\", axis = 1, inplace = True)"
   ]
  },
  {
   "cell_type": "code",
   "execution_count": 14,
   "metadata": {
    "collapsed": false
   },
   "outputs": [
    {
     "name": "stdout",
     "output_type": "stream",
     "text": [
      "<class 'pandas.core.frame.DataFrame'>\n",
      "Int64Index: 43431 entries, 0 to 43430\n",
      "Data columns (total 15 columns):\n",
      "id                     43431 non-null int64\n",
      "user_id                43431 non-null int64\n",
      "vehicle_model_id       43431 non-null int64\n",
      "travel_type_id         43431 non-null int64\n",
      "from_area_id           43343 non-null float64\n",
      "to_area_id             34293 non-null float64\n",
      "online_booking         43431 non-null int64\n",
      "mobile_site_booking    43431 non-null int64\n",
      "Car_Cancellation       43431 non-null int64\n",
      "Day_of_Journey         43431 non-null object\n",
      "Month_of_Journey       43431 non-null object\n",
      "Day_of_Booking         43431 non-null object\n",
      "Month_of_Booking       43431 non-null object\n",
      "Year_of_Journey        43431 non-null int64\n",
      "Year_of_Booking        43431 non-null int64\n",
      "dtypes: float64(2), int64(9), object(4)\n",
      "memory usage: 5.3+ MB\n"
     ]
    }
   ],
   "source": [
    "Cab_train.info()"
   ]
  },
  {
   "cell_type": "code",
   "execution_count": 15,
   "metadata": {
    "collapsed": false
   },
   "outputs": [
    {
     "data": {
      "text/html": [
       "<div>\n",
       "<table border=\"1\" class=\"dataframe\">\n",
       "  <thead>\n",
       "    <tr style=\"text-align: right;\">\n",
       "      <th></th>\n",
       "      <th>id</th>\n",
       "      <th>user_id</th>\n",
       "      <th>vehicle_model_id</th>\n",
       "      <th>travel_type_id</th>\n",
       "      <th>from_area_id</th>\n",
       "      <th>to_area_id</th>\n",
       "      <th>online_booking</th>\n",
       "      <th>mobile_site_booking</th>\n",
       "      <th>Day_of_Journey</th>\n",
       "      <th>Month_of_Journey</th>\n",
       "      <th>Day_of_Booking</th>\n",
       "      <th>Month_of_Booking</th>\n",
       "      <th>Year_of_Journey</th>\n",
       "      <th>Year_of_Booking</th>\n",
       "    </tr>\n",
       "  </thead>\n",
       "  <tbody>\n",
       "    <tr>\n",
       "      <th>0</th>\n",
       "      <td>132516</td>\n",
       "      <td>22179</td>\n",
       "      <td>12</td>\n",
       "      <td>2</td>\n",
       "      <td>1096</td>\n",
       "      <td>393</td>\n",
       "      <td>0</td>\n",
       "      <td>0</td>\n",
       "      <td>1</td>\n",
       "      <td>1</td>\n",
       "      <td>1</td>\n",
       "      <td>1</td>\n",
       "      <td>2013</td>\n",
       "      <td>2013</td>\n",
       "    </tr>\n",
       "  </tbody>\n",
       "</table>\n",
       "</div>"
      ],
      "text/plain": [
       "       id  user_id  vehicle_model_id  travel_type_id  from_area_id  \\\n",
       "0  132516    22179                12               2          1096   \n",
       "\n",
       "   to_area_id  online_booking  mobile_site_booking Day_of_Journey  \\\n",
       "0         393               0                    0              1   \n",
       "\n",
       "  Month_of_Journey Day_of_Booking Month_of_Booking  Year_of_Journey  \\\n",
       "0                1              1                1             2013   \n",
       "\n",
       "   Year_of_Booking  \n",
       "0             2013  "
      ]
     },
     "execution_count": 15,
     "metadata": {},
     "output_type": "execute_result"
    }
   ],
   "source": [
    "Test_cab.head(1)"
   ]
  },
  {
   "cell_type": "code",
   "execution_count": 16,
   "metadata": {
    "collapsed": false,
    "scrolled": true
   },
   "outputs": [
    {
     "data": {
      "text/html": [
       "<div>\n",
       "<table border=\"1\" class=\"dataframe\">\n",
       "  <thead>\n",
       "    <tr style=\"text-align: right;\">\n",
       "      <th></th>\n",
       "      <th>id</th>\n",
       "      <th>user_id</th>\n",
       "      <th>vehicle_model_id</th>\n",
       "      <th>travel_type_id</th>\n",
       "      <th>from_area_id</th>\n",
       "      <th>to_area_id</th>\n",
       "      <th>online_booking</th>\n",
       "      <th>mobile_site_booking</th>\n",
       "      <th>Car_Cancellation</th>\n",
       "      <th>Year_of_Journey</th>\n",
       "      <th>Year_of_Booking</th>\n",
       "    </tr>\n",
       "  </thead>\n",
       "  <tbody>\n",
       "    <tr>\n",
       "      <th>id</th>\n",
       "      <td>1.000000</td>\n",
       "      <td>0.685588</td>\n",
       "      <td>0.035850</td>\n",
       "      <td>0.006211</td>\n",
       "      <td>0.023385</td>\n",
       "      <td>0.024713</td>\n",
       "      <td>0.106480</td>\n",
       "      <td>0.088576</td>\n",
       "      <td>0.134487</td>\n",
       "      <td>0.013699</td>\n",
       "      <td>NaN</td>\n",
       "    </tr>\n",
       "    <tr>\n",
       "      <th>user_id</th>\n",
       "      <td>0.685588</td>\n",
       "      <td>1.000000</td>\n",
       "      <td>0.058515</td>\n",
       "      <td>-0.034468</td>\n",
       "      <td>0.018813</td>\n",
       "      <td>0.011489</td>\n",
       "      <td>0.103174</td>\n",
       "      <td>0.063390</td>\n",
       "      <td>0.110619</td>\n",
       "      <td>0.012772</td>\n",
       "      <td>NaN</td>\n",
       "    </tr>\n",
       "    <tr>\n",
       "      <th>vehicle_model_id</th>\n",
       "      <td>0.035850</td>\n",
       "      <td>0.058515</td>\n",
       "      <td>1.000000</td>\n",
       "      <td>-0.037089</td>\n",
       "      <td>-0.022952</td>\n",
       "      <td>-0.042718</td>\n",
       "      <td>0.013878</td>\n",
       "      <td>-0.011320</td>\n",
       "      <td>-0.061483</td>\n",
       "      <td>-0.004842</td>\n",
       "      <td>NaN</td>\n",
       "    </tr>\n",
       "    <tr>\n",
       "      <th>travel_type_id</th>\n",
       "      <td>0.006211</td>\n",
       "      <td>-0.034468</td>\n",
       "      <td>-0.037089</td>\n",
       "      <td>1.000000</td>\n",
       "      <td>0.018280</td>\n",
       "      <td>-0.005288</td>\n",
       "      <td>-0.070009</td>\n",
       "      <td>-0.025123</td>\n",
       "      <td>-0.026864</td>\n",
       "      <td>-0.008380</td>\n",
       "      <td>NaN</td>\n",
       "    </tr>\n",
       "    <tr>\n",
       "      <th>from_area_id</th>\n",
       "      <td>0.023385</td>\n",
       "      <td>0.018813</td>\n",
       "      <td>-0.022952</td>\n",
       "      <td>0.018280</td>\n",
       "      <td>1.000000</td>\n",
       "      <td>0.012092</td>\n",
       "      <td>0.018753</td>\n",
       "      <td>-0.010970</td>\n",
       "      <td>0.008785</td>\n",
       "      <td>0.000935</td>\n",
       "      <td>NaN</td>\n",
       "    </tr>\n",
       "    <tr>\n",
       "      <th>to_area_id</th>\n",
       "      <td>0.024713</td>\n",
       "      <td>0.011489</td>\n",
       "      <td>-0.042718</td>\n",
       "      <td>-0.005288</td>\n",
       "      <td>0.012092</td>\n",
       "      <td>1.000000</td>\n",
       "      <td>0.010017</td>\n",
       "      <td>-0.017008</td>\n",
       "      <td>0.069150</td>\n",
       "      <td>0.001579</td>\n",
       "      <td>NaN</td>\n",
       "    </tr>\n",
       "    <tr>\n",
       "      <th>online_booking</th>\n",
       "      <td>0.106480</td>\n",
       "      <td>0.103174</td>\n",
       "      <td>0.013878</td>\n",
       "      <td>-0.070009</td>\n",
       "      <td>0.018753</td>\n",
       "      <td>0.010017</td>\n",
       "      <td>1.000000</td>\n",
       "      <td>-0.156546</td>\n",
       "      <td>0.149476</td>\n",
       "      <td>-0.000318</td>\n",
       "      <td>NaN</td>\n",
       "    </tr>\n",
       "    <tr>\n",
       "      <th>mobile_site_booking</th>\n",
       "      <td>0.088576</td>\n",
       "      <td>0.063390</td>\n",
       "      <td>-0.011320</td>\n",
       "      <td>-0.025123</td>\n",
       "      <td>-0.010970</td>\n",
       "      <td>-0.017008</td>\n",
       "      <td>-0.156546</td>\n",
       "      <td>1.000000</td>\n",
       "      <td>0.067204</td>\n",
       "      <td>-0.001767</td>\n",
       "      <td>NaN</td>\n",
       "    </tr>\n",
       "    <tr>\n",
       "      <th>Car_Cancellation</th>\n",
       "      <td>0.134487</td>\n",
       "      <td>0.110619</td>\n",
       "      <td>-0.061483</td>\n",
       "      <td>-0.026864</td>\n",
       "      <td>0.008785</td>\n",
       "      <td>0.069150</td>\n",
       "      <td>0.149476</td>\n",
       "      <td>0.067204</td>\n",
       "      <td>1.000000</td>\n",
       "      <td>-0.002317</td>\n",
       "      <td>NaN</td>\n",
       "    </tr>\n",
       "    <tr>\n",
       "      <th>Year_of_Journey</th>\n",
       "      <td>0.013699</td>\n",
       "      <td>0.012772</td>\n",
       "      <td>-0.004842</td>\n",
       "      <td>-0.008380</td>\n",
       "      <td>0.000935</td>\n",
       "      <td>0.001579</td>\n",
       "      <td>-0.000318</td>\n",
       "      <td>-0.001767</td>\n",
       "      <td>-0.002317</td>\n",
       "      <td>1.000000</td>\n",
       "      <td>NaN</td>\n",
       "    </tr>\n",
       "    <tr>\n",
       "      <th>Year_of_Booking</th>\n",
       "      <td>NaN</td>\n",
       "      <td>NaN</td>\n",
       "      <td>NaN</td>\n",
       "      <td>NaN</td>\n",
       "      <td>NaN</td>\n",
       "      <td>NaN</td>\n",
       "      <td>NaN</td>\n",
       "      <td>NaN</td>\n",
       "      <td>NaN</td>\n",
       "      <td>NaN</td>\n",
       "      <td>NaN</td>\n",
       "    </tr>\n",
       "  </tbody>\n",
       "</table>\n",
       "</div>"
      ],
      "text/plain": [
       "                           id   user_id  vehicle_model_id  travel_type_id  \\\n",
       "id                   1.000000  0.685588          0.035850        0.006211   \n",
       "user_id              0.685588  1.000000          0.058515       -0.034468   \n",
       "vehicle_model_id     0.035850  0.058515          1.000000       -0.037089   \n",
       "travel_type_id       0.006211 -0.034468         -0.037089        1.000000   \n",
       "from_area_id         0.023385  0.018813         -0.022952        0.018280   \n",
       "to_area_id           0.024713  0.011489         -0.042718       -0.005288   \n",
       "online_booking       0.106480  0.103174          0.013878       -0.070009   \n",
       "mobile_site_booking  0.088576  0.063390         -0.011320       -0.025123   \n",
       "Car_Cancellation     0.134487  0.110619         -0.061483       -0.026864   \n",
       "Year_of_Journey      0.013699  0.012772         -0.004842       -0.008380   \n",
       "Year_of_Booking           NaN       NaN               NaN             NaN   \n",
       "\n",
       "                     from_area_id  to_area_id  online_booking  \\\n",
       "id                       0.023385    0.024713        0.106480   \n",
       "user_id                  0.018813    0.011489        0.103174   \n",
       "vehicle_model_id        -0.022952   -0.042718        0.013878   \n",
       "travel_type_id           0.018280   -0.005288       -0.070009   \n",
       "from_area_id             1.000000    0.012092        0.018753   \n",
       "to_area_id               0.012092    1.000000        0.010017   \n",
       "online_booking           0.018753    0.010017        1.000000   \n",
       "mobile_site_booking     -0.010970   -0.017008       -0.156546   \n",
       "Car_Cancellation         0.008785    0.069150        0.149476   \n",
       "Year_of_Journey          0.000935    0.001579       -0.000318   \n",
       "Year_of_Booking               NaN         NaN             NaN   \n",
       "\n",
       "                     mobile_site_booking  Car_Cancellation  Year_of_Journey  \\\n",
       "id                              0.088576          0.134487         0.013699   \n",
       "user_id                         0.063390          0.110619         0.012772   \n",
       "vehicle_model_id               -0.011320         -0.061483        -0.004842   \n",
       "travel_type_id                 -0.025123         -0.026864        -0.008380   \n",
       "from_area_id                   -0.010970          0.008785         0.000935   \n",
       "to_area_id                     -0.017008          0.069150         0.001579   \n",
       "online_booking                 -0.156546          0.149476        -0.000318   \n",
       "mobile_site_booking             1.000000          0.067204        -0.001767   \n",
       "Car_Cancellation                0.067204          1.000000        -0.002317   \n",
       "Year_of_Journey                -0.001767         -0.002317         1.000000   \n",
       "Year_of_Booking                      NaN               NaN              NaN   \n",
       "\n",
       "                     Year_of_Booking  \n",
       "id                               NaN  \n",
       "user_id                          NaN  \n",
       "vehicle_model_id                 NaN  \n",
       "travel_type_id                   NaN  \n",
       "from_area_id                     NaN  \n",
       "to_area_id                       NaN  \n",
       "online_booking                   NaN  \n",
       "mobile_site_booking              NaN  \n",
       "Car_Cancellation                 NaN  \n",
       "Year_of_Journey                  NaN  \n",
       "Year_of_Booking                  NaN  "
      ]
     },
     "execution_count": 16,
     "metadata": {},
     "output_type": "execute_result"
    }
   ],
   "source": [
    "Cab_train.corr('spearman')"
   ]
  },
  {
   "cell_type": "markdown",
   "metadata": {},
   "source": [
    "Checking the linear relationship is often useful when it comes to feature selection. Features having negative can be removed as those features does not give a good impact for our predictive model"
   ]
  },
  {
   "cell_type": "markdown",
   "metadata": {},
   "source": [
    "We can drop the year column as most of the values are 2013 and even the co-linear value was negative so it won't make any contribution to our predictive model\n"
   ]
  },
  {
   "cell_type": "code",
   "execution_count": 18,
   "metadata": {
    "collapsed": true
   },
   "outputs": [],
   "source": [
    "Cab_train.drop(\"Year_of_Journey\", axis=1, inplace=True)\n",
    "Cab_train.drop(\"Year_of_Booking\", axis=1, inplace=True)\n",
    "\n",
    "Test_cab.drop(\"Year_of_Journey\", axis=1, inplace=True)\n",
    "Test_cab.drop(\"Year_of_Booking\", axis=1, inplace=True)"
   ]
  },
  {
   "cell_type": "code",
   "execution_count": 21,
   "metadata": {
    "collapsed": false
   },
   "outputs": [
    {
     "data": {
      "text/plain": [
       "<matplotlib.axes._subplots.AxesSubplot at 0x1f73b978>"
      ]
     },
     "execution_count": 21,
     "metadata": {},
     "output_type": "execute_result"
    },
    {
     "data": {
      "image/png": "[encoded data removed]",
      "text/plain": [
       "<matplotlib.figure.Figure at 0x184b9198>"
      ]
     },
     "metadata": {},
     "output_type": "display_data"
    }
   ],
   "source": [
    "#Lets visualize our data now\n",
    "fig,(axis1,axis2) = plt.subplots(1,2,figsize=(15,4))\n",
    "\n",
    "sns.barplot(x=\"mobile_site_booking\", y=\"Car_Cancellation\", data=Cab_train, ax=axis1)\n",
    "sns.barplot(x=\"online_booking\",  y=\"Car_Cancellation\", data=Cab_train, ax=axis2)"
   ]
  },
  {
   "cell_type": "code",
   "execution_count": 31,
   "metadata": {
    "collapsed": false,
    "scrolled": true
   },
   "outputs": [],
   "source": [
    "Cab_train.drop(\"id\", axis=1, inplace=True)"
   ]
  },
  {
   "cell_type": "code",
   "execution_count": 23,
   "metadata": {
    "collapsed": false,
    "scrolled": true
   },
   "outputs": [
    {
     "data": {
      "text/html": [
       "<div>\n",
       "<table border=\"1\" class=\"dataframe\">\n",
       "  <thead>\n",
       "    <tr style=\"text-align: right;\">\n",
       "      <th></th>\n",
       "      <th>id</th>\n",
       "      <th>user_id</th>\n",
       "      <th>vehicle_model_id</th>\n",
       "      <th>travel_type_id</th>\n",
       "      <th>from_area_id</th>\n",
       "      <th>to_area_id</th>\n",
       "      <th>online_booking</th>\n",
       "      <th>mobile_site_booking</th>\n",
       "      <th>Day_of_Journey</th>\n",
       "      <th>Month_of_Journey</th>\n",
       "      <th>Day_of_Booking</th>\n",
       "      <th>Month_of_Booking</th>\n",
       "    </tr>\n",
       "  </thead>\n",
       "  <tbody>\n",
       "    <tr>\n",
       "      <th>0</th>\n",
       "      <td>132516</td>\n",
       "      <td>22179</td>\n",
       "      <td>12</td>\n",
       "      <td>2</td>\n",
       "      <td>1096</td>\n",
       "      <td>393</td>\n",
       "      <td>0</td>\n",
       "      <td>0</td>\n",
       "      <td>1</td>\n",
       "      <td>1</td>\n",
       "      <td>1</td>\n",
       "      <td>1</td>\n",
       "    </tr>\n",
       "  </tbody>\n",
       "</table>\n",
       "</div>"
      ],
      "text/plain": [
       "       id  user_id  vehicle_model_id  travel_type_id  from_area_id  \\\n",
       "0  132516    22179                12               2          1096   \n",
       "\n",
       "   to_area_id  online_booking  mobile_site_booking Day_of_Journey  \\\n",
       "0         393               0                    0              1   \n",
       "\n",
       "  Month_of_Journey Day_of_Booking Month_of_Booking  \n",
       "0                1              1                1  "
      ]
     },
     "execution_count": 23,
     "metadata": {},
     "output_type": "execute_result"
    }
   ],
   "source": []
  },
  {
   "cell_type": "code",
   "execution_count": 38,
   "metadata": {
    "collapsed": false
   },
   "outputs": [],
   "source": [
    "Cab_train.drop(\"to_area_id\",axis=1,inplace=True)"
   ]
  },
  {
   "cell_type": "code",
   "execution_count": 39,
   "metadata": {
    "collapsed": true
   },
   "outputs": [],
   "source": [
    "Test_cab.drop(\"to_area_id\",axis=1,inplace=True)"
   ]
  },
  {
   "cell_type": "code",
   "execution_count": 43,
   "metadata": {
    "collapsed": true
   },
   "outputs": [],
   "source": [
    "Cab_train[\"from_area_id\"] = Cab_train[\"from_area_id\"].fillna(393)\n",
    "Test_cab[\"from_area_id\"] = Test_cab[\"from_area_id\"].fillna(393)"
   ]
  },
  {
   "cell_type": "code",
   "execution_count": 44,
   "metadata": {
    "collapsed": false
   },
   "outputs": [
    {
     "name": "stdout",
     "output_type": "stream",
     "text": [
      "<class 'pandas.core.frame.DataFrame'>\n",
      "Int64Index: 43431 entries, 0 to 43430\n",
      "Data columns (total 11 columns):\n",
      "user_id                43431 non-null int64\n",
      "vehicle_model_id       43431 non-null int64\n",
      "travel_type_id         43431 non-null int64\n",
      "from_area_id           43431 non-null float64\n",
      "online_booking         43431 non-null int64\n",
      "mobile_site_booking    43431 non-null int64\n",
      "Car_Cancellation       43431 non-null int64\n",
      "Day_of_Journey         43431 non-null object\n",
      "Month_of_Journey       43431 non-null object\n",
      "Day_of_Booking         43431 non-null object\n",
      "Month_of_Booking       43431 non-null object\n",
      "dtypes: float64(1), int64(6), object(4)\n",
      "memory usage: 4.0+ MB\n"
     ]
    }
   ],
   "source": [
    "Cab_train.info()"
   ]
  },
  {
   "cell_type": "code",
   "execution_count": 45,
   "metadata": {
    "collapsed": false
   },
   "outputs": [
    {
     "name": "stdout",
     "output_type": "stream",
     "text": [
      "<class 'pandas.core.frame.DataFrame'>\n",
      "Int64Index: 10000 entries, 0 to 9999\n",
      "Data columns (total 11 columns):\n",
      "id                     10000 non-null int64\n",
      "user_id                10000 non-null int64\n",
      "vehicle_model_id       10000 non-null int64\n",
      "travel_type_id         10000 non-null int64\n",
      "from_area_id           10000 non-null float64\n",
      "online_booking         10000 non-null int64\n",
      "mobile_site_booking    10000 non-null int64\n",
      "Day_of_Journey         10000 non-null object\n",
      "Month_of_Journey       10000 non-null object\n",
      "Day_of_Booking         10000 non-null object\n",
      "Month_of_Booking       10000 non-null object\n",
      "dtypes: float64(1), int64(6), object(4)\n",
      "memory usage: 937.5+ KB\n"
     ]
    }
   ],
   "source": [
    "Test_cab.info()"
   ]
  },
  {
   "cell_type": "code",
   "execution_count": 46,
   "metadata": {
    "collapsed": true
   },
   "outputs": [],
   "source": [
    "#lets build the training and testing data\n",
    "X_train = Cab_train.drop(\"Car_Cancellation\",axis=1)\n",
    "Y_train = Cab_train[\"Car_Cancellation\"]\n",
    "X_test = Test_cab.drop(\"id\",axis=1)"
   ]
  },
  {
   "cell_type": "code",
   "execution_count": 47,
   "metadata": {
    "collapsed": false
   },
   "outputs": [
    {
     "data": {
      "text/plain": [
       "0.92774746149064036"
      ]
     },
     "execution_count": 47,
     "metadata": {},
     "output_type": "execute_result"
    }
   ],
   "source": [
    "# Logistic Regression\n",
    "\n",
    "logreg = LogisticRegression()\n",
    "\n",
    "clf = logreg.fit(X_train, Y_train)\n",
    "\n",
    "Y_pred = logreg.predict(X_test)\n",
    "\n",
    "logreg.score(X_train, Y_train)"
   ]
  },
  {
   "cell_type": "code",
   "execution_count": 51,
   "metadata": {
    "collapsed": false
   },
   "outputs": [
    {
     "data": {
      "text/plain": [
       "array([ 0.491925  ,  0.52447454,  0.76292859,  0.4441509 ,  0.66641714])"
      ]
     },
     "execution_count": 51,
     "metadata": {},
     "output_type": "execute_result"
    }
   ],
   "source": [
    "scores = cross_validation.cross_val_score(clf, X_train, Y_train,\n",
    "                                          cv=5, scoring='roc_auc')\n",
    "scores"
   ]
  },
  {
   "cell_type": "code",
   "execution_count": 52,
   "metadata": {
    "collapsed": true
   },
   "outputs": [],
   "source": [
    "random_forest = RandomForestClassifier(n_estimators=150)\n",
    "\n",
    "clf = random_forest.fit(X_train, Y_train)"
   ]
  },
  {
   "cell_type": "code",
   "execution_count": 56,
   "metadata": {
    "collapsed": false
   },
   "outputs": [
    {
     "data": {
      "text/plain": [
       "array([  5.74409532e-01,   1.46615693e-01,   5.20655784e-04,\n",
       "         2.22076439e-04,   6.24083883e-01])"
      ]
     },
     "execution_count": 56,
     "metadata": {},
     "output_type": "execute_result"
    }
   ],
   "source": [
    "scores = cross_validation.cross_val_score(clf, X_train, Y_train,\n",
    "                                          cv=5, scoring='roc_auc')\n",
    "scores"
   ]
  },
  {
   "cell_type": "code",
   "execution_count": 54,
   "metadata": {
    "collapsed": false
   },
   "outputs": [
    {
     "data": {
      "text/plain": [
       "0.99933227418203585"
      ]
     },
     "execution_count": 54,
     "metadata": {},
     "output_type": "execute_result"
    }
   ],
   "source": [
    "Y_pred = random_forest.predict(X_test)\n",
    "\n",
    "random_forest.score(X_train, Y_train)"
   ]
  },
  {
   "cell_type": "code",
   "execution_count": 61,
   "metadata": {
    "collapsed": false
   },
   "outputs": [],
   "source": [
    "submission = pd.DataFrame({\n",
    "        \"id\": Test_cab[\"id\"],\n",
    "        \"Car_Cancellation\": Y_pred\n",
    "\n",
    "    })\n",
    "submission.to_csv('Cancel.csv', index=False)"
   ]
  },
  {
   "cell_type": "code",
   "execution_count": null,
   "metadata": {
    "collapsed": true
   },
   "outputs": [],
   "source": []
  }
 ],
 "metadata": {
  "kernelspec": {
   "display_name": "Python 2",
   "language": "python",
   "name": "python2"
  },
  "language_info": {
   "codemirror_mode": {
    "name": "ipython",
    "version": 2
   },
   "file_extension": ".py",
   "mimetype": "text/x-python",
   "name": "python",
   "nbconvert_exporter": "python",
   "pygments_lexer": "ipython2",
   "version": "2.7.10"
  }
 },
 "nbformat": 4,
 "nbformat_minor": 0
}
